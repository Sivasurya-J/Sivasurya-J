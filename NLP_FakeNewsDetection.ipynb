{
  "cells": [
    {
      "cell_type": "markdown",
      "metadata": {
        "id": "view-in-github",
        "colab_type": "text"
      },
      "source": [
        "<a href=\"https://colab.research.google.com/github/Sivasurya-J/Sivasurya-J/blob/main/NLP_FakeNewsDetection.ipynb\" target=\"_parent\"><img src=\"https://colab.research.google.com/assets/colab-badge.svg\" alt=\"Open In Colab\"/></a>"
      ]
    },
    {
      "cell_type": "markdown",
      "metadata": {
        "id": "UAnZ8Vo1PJWX"
      },
      "source": [
        "# Natural Language Processing - CT3 Project"
      ]
    },
    {
      "cell_type": "markdown",
      "metadata": {
        "id": "fspOxGav6QI8"
      },
      "source": [
        "## Fake news identification- Total marks (30)"
      ]
    },
    {
      "cell_type": "markdown",
      "metadata": {
        "id": "xn8TaN0B6QJL"
      },
      "source": [
        "### About the data set \n",
        "\n",
        "A full  dataset with the following attributes:\n",
        "\n",
        "\n",
        "####  data:\n",
        "**id:**  unique id for a news article<br>\n",
        "**title:** the title of a news article <br> \n",
        "**author:**  author of the news article<br>\n",
        "**text:** the text of the article; could be incomplete<br>\n",
        "\n",
        "\n",
        "**label** - (Output variable) a label that marks the article as potentially unreliable <br>\n",
        "1: unreliable <br>\n",
        "0: reliable\n",
        "\n",
        "\n",
        "Note: Remove the unneccssary data like description"
      ]
    },
    {
      "cell_type": "markdown",
      "metadata": {
        "id": "j0VrvGlM6QJQ"
      },
      "source": [
        "# Table of Content\n",
        "\n",
        "1. Data Preprocessing - **2 Marks**\n",
        "2. Feature extraction - **3 Marks**\n",
        "3. Design a LSTM Model - **5 Marks**\n",
        "4. Test the Model - own data - **3 Marks**\n",
        "5. Build the following models <br>\n",
        "   Design Bideirectional LSTM - **5 Marks**<br>\n",
        "   Design RNN (2 Layers) - **5 Marks**\n",
        "6. Compare the Results of all above models - **2 Marks**\n",
        "7. Intrepret your solution based on the results - **5 Marks**\n"
      ]
    },
    {
      "cell_type": "markdown",
      "metadata": {
        "id": "9jELyV6v6QJS"
      },
      "source": [
        "<a id=\"logreg\"> </a>\n",
        "## 1. Data Pre-Processing"
      ]
    },
    {
      "cell_type": "markdown",
      "metadata": {
        "id": "xdFajtIq6QJT"
      },
      "source": [
        "**Import the required libraries**"
      ]
    },
    {
      "cell_type": "code",
      "source": [
        "from google.colab import drive\n",
        "drive.mount('/content/drive/')"
      ],
      "metadata": {
        "colab": {
          "base_uri": "https://localhost:8080/"
        },
        "id": "YgDdADyPaoiz",
        "outputId": "b992e57c-d18e-4fce-e4de-6ef9ce805e32"
      },
      "execution_count": 1,
      "outputs": [
        {
          "output_type": "stream",
          "name": "stdout",
          "text": [
            "Mounted at /content/drive/\n"
          ]
        }
      ]
    },
    {
      "cell_type": "code",
      "execution_count": 2,
      "metadata": {
        "id": "JCoL7ClW6QJU"
      },
      "outputs": [],
      "source": [
        "import pandas as pd\n",
        "import numpy as np\n",
        "import matplotlib.pyplot as plt\n",
        "import re\n",
        "import nltk\n",
        "import tensorflow as tf\n",
        "import keras\n",
        "from keras.layers import *\n",
        "from keras.models import *\n",
        "\n",
        "from sklearn.feature_extraction.text import CountVectorizer\n",
        "from sklearn.model_selection import train_test_split\n",
        "from keras.models import Sequential\n",
        "from keras.layers.core import Dense, Dropout, Activation\n",
        "from sklearn.metrics import classification_report, confusion_matrix, accuracy_score, roc_auc_score"
      ]
    },
    {
      "cell_type": "markdown",
      "metadata": {
        "id": "MYJsWvjm6QJV"
      },
      "source": [
        "#### Load the csv file"
      ]
    },
    {
      "cell_type": "code",
      "execution_count": 3,
      "metadata": {
        "id": "OPT6cH9e6QJW",
        "colab": {
          "base_uri": "https://localhost:8080/",
          "height": 223
        },
        "outputId": "bae36e28-8ff5-4016-a2a2-302111b73f12"
      },
      "outputs": [
        {
          "output_type": "stream",
          "name": "stdout",
          "text": [
            "(20800, 5)\n"
          ]
        },
        {
          "output_type": "execute_result",
          "data": {
            "text/plain": [
              "   id                                              title              author  \\\n",
              "0   0  House Dem Aide: We Didn’t Even See Comey’s Let...       Darrell Lucus   \n",
              "1   1  FLYNN: Hillary Clinton, Big Woman on Campus - ...     Daniel J. Flynn   \n",
              "2   2                  Why the Truth Might Get You Fired  Consortiumnews.com   \n",
              "3   3  15 Civilians Killed In Single US Airstrike Hav...     Jessica Purkiss   \n",
              "4   4  Iranian woman jailed for fictional unpublished...      Howard Portnoy   \n",
              "\n",
              "                                                text  label  \n",
              "0  House Dem Aide: We Didn’t Even See Comey’s Let...      1  \n",
              "1  Ever get the feeling your life circles the rou...      0  \n",
              "2  Why the Truth Might Get You Fired October 29, ...      1  \n",
              "3  Videos 15 Civilians Killed In Single US Airstr...      1  \n",
              "4  Print \\nAn Iranian woman has been sentenced to...      1  "
            ],
            "text/html": [
              "\n",
              "  <div id=\"df-e969cc02-5e2d-4caa-ae35-0f6b3c6c875e\">\n",
              "    <div class=\"colab-df-container\">\n",
              "      <div>\n",
              "<style scoped>\n",
              "    .dataframe tbody tr th:only-of-type {\n",
              "        vertical-align: middle;\n",
              "    }\n",
              "\n",
              "    .dataframe tbody tr th {\n",
              "        vertical-align: top;\n",
              "    }\n",
              "\n",
              "    .dataframe thead th {\n",
              "        text-align: right;\n",
              "    }\n",
              "</style>\n",
              "<table border=\"1\" class=\"dataframe\">\n",
              "  <thead>\n",
              "    <tr style=\"text-align: right;\">\n",
              "      <th></th>\n",
              "      <th>id</th>\n",
              "      <th>title</th>\n",
              "      <th>author</th>\n",
              "      <th>text</th>\n",
              "      <th>label</th>\n",
              "    </tr>\n",
              "  </thead>\n",
              "  <tbody>\n",
              "    <tr>\n",
              "      <th>0</th>\n",
              "      <td>0</td>\n",
              "      <td>House Dem Aide: We Didn’t Even See Comey’s Let...</td>\n",
              "      <td>Darrell Lucus</td>\n",
              "      <td>House Dem Aide: We Didn’t Even See Comey’s Let...</td>\n",
              "      <td>1</td>\n",
              "    </tr>\n",
              "    <tr>\n",
              "      <th>1</th>\n",
              "      <td>1</td>\n",
              "      <td>FLYNN: Hillary Clinton, Big Woman on Campus - ...</td>\n",
              "      <td>Daniel J. Flynn</td>\n",
              "      <td>Ever get the feeling your life circles the rou...</td>\n",
              "      <td>0</td>\n",
              "    </tr>\n",
              "    <tr>\n",
              "      <th>2</th>\n",
              "      <td>2</td>\n",
              "      <td>Why the Truth Might Get You Fired</td>\n",
              "      <td>Consortiumnews.com</td>\n",
              "      <td>Why the Truth Might Get You Fired October 29, ...</td>\n",
              "      <td>1</td>\n",
              "    </tr>\n",
              "    <tr>\n",
              "      <th>3</th>\n",
              "      <td>3</td>\n",
              "      <td>15 Civilians Killed In Single US Airstrike Hav...</td>\n",
              "      <td>Jessica Purkiss</td>\n",
              "      <td>Videos 15 Civilians Killed In Single US Airstr...</td>\n",
              "      <td>1</td>\n",
              "    </tr>\n",
              "    <tr>\n",
              "      <th>4</th>\n",
              "      <td>4</td>\n",
              "      <td>Iranian woman jailed for fictional unpublished...</td>\n",
              "      <td>Howard Portnoy</td>\n",
              "      <td>Print \\nAn Iranian woman has been sentenced to...</td>\n",
              "      <td>1</td>\n",
              "    </tr>\n",
              "  </tbody>\n",
              "</table>\n",
              "</div>\n",
              "      <button class=\"colab-df-convert\" onclick=\"convertToInteractive('df-e969cc02-5e2d-4caa-ae35-0f6b3c6c875e')\"\n",
              "              title=\"Convert this dataframe to an interactive table.\"\n",
              "              style=\"display:none;\">\n",
              "        \n",
              "  <svg xmlns=\"http://www.w3.org/2000/svg\" height=\"24px\"viewBox=\"0 0 24 24\"\n",
              "       width=\"24px\">\n",
              "    <path d=\"M0 0h24v24H0V0z\" fill=\"none\"/>\n",
              "    <path d=\"M18.56 5.44l.94 2.06.94-2.06 2.06-.94-2.06-.94-.94-2.06-.94 2.06-2.06.94zm-11 1L8.5 8.5l.94-2.06 2.06-.94-2.06-.94L8.5 2.5l-.94 2.06-2.06.94zm10 10l.94 2.06.94-2.06 2.06-.94-2.06-.94-.94-2.06-.94 2.06-2.06.94z\"/><path d=\"M17.41 7.96l-1.37-1.37c-.4-.4-.92-.59-1.43-.59-.52 0-1.04.2-1.43.59L10.3 9.45l-7.72 7.72c-.78.78-.78 2.05 0 2.83L4 21.41c.39.39.9.59 1.41.59.51 0 1.02-.2 1.41-.59l7.78-7.78 2.81-2.81c.8-.78.8-2.07 0-2.86zM5.41 20L4 18.59l7.72-7.72 1.47 1.35L5.41 20z\"/>\n",
              "  </svg>\n",
              "      </button>\n",
              "      \n",
              "  <style>\n",
              "    .colab-df-container {\n",
              "      display:flex;\n",
              "      flex-wrap:wrap;\n",
              "      gap: 12px;\n",
              "    }\n",
              "\n",
              "    .colab-df-convert {\n",
              "      background-color: #E8F0FE;\n",
              "      border: none;\n",
              "      border-radius: 50%;\n",
              "      cursor: pointer;\n",
              "      display: none;\n",
              "      fill: #1967D2;\n",
              "      height: 32px;\n",
              "      padding: 0 0 0 0;\n",
              "      width: 32px;\n",
              "    }\n",
              "\n",
              "    .colab-df-convert:hover {\n",
              "      background-color: #E2EBFA;\n",
              "      box-shadow: 0px 1px 2px rgba(60, 64, 67, 0.3), 0px 1px 3px 1px rgba(60, 64, 67, 0.15);\n",
              "      fill: #174EA6;\n",
              "    }\n",
              "\n",
              "    [theme=dark] .colab-df-convert {\n",
              "      background-color: #3B4455;\n",
              "      fill: #D2E3FC;\n",
              "    }\n",
              "\n",
              "    [theme=dark] .colab-df-convert:hover {\n",
              "      background-color: #434B5C;\n",
              "      box-shadow: 0px 1px 3px 1px rgba(0, 0, 0, 0.15);\n",
              "      filter: drop-shadow(0px 1px 2px rgba(0, 0, 0, 0.3));\n",
              "      fill: #FFFFFF;\n",
              "    }\n",
              "  </style>\n",
              "\n",
              "      <script>\n",
              "        const buttonEl =\n",
              "          document.querySelector('#df-e969cc02-5e2d-4caa-ae35-0f6b3c6c875e button.colab-df-convert');\n",
              "        buttonEl.style.display =\n",
              "          google.colab.kernel.accessAllowed ? 'block' : 'none';\n",
              "\n",
              "        async function convertToInteractive(key) {\n",
              "          const element = document.querySelector('#df-e969cc02-5e2d-4caa-ae35-0f6b3c6c875e');\n",
              "          const dataTable =\n",
              "            await google.colab.kernel.invokeFunction('convertToInteractive',\n",
              "                                                     [key], {});\n",
              "          if (!dataTable) return;\n",
              "\n",
              "          const docLinkHtml = 'Like what you see? Visit the ' +\n",
              "            '<a target=\"_blank\" href=https://colab.research.google.com/notebooks/data_table.ipynb>data table notebook</a>'\n",
              "            + ' to learn more about interactive tables.';\n",
              "          element.innerHTML = '';\n",
              "          dataTable['output_type'] = 'display_data';\n",
              "          await google.colab.output.renderOutput(dataTable, element);\n",
              "          const docLink = document.createElement('div');\n",
              "          docLink.innerHTML = docLinkHtml;\n",
              "          element.appendChild(docLink);\n",
              "        }\n",
              "      </script>\n",
              "    </div>\n",
              "  </div>\n",
              "  "
            ]
          },
          "metadata": {},
          "execution_count": 3
        }
      ],
      "source": [
        "train = pd.read_csv(\"/content/drive/My Drive/train.csv\")\n",
        "# test = pd.read_csv(\"test.csv/test.csv\")\n",
        "\n",
        "# print(train.shape, test.shape)\n",
        "print(train.shape)\n",
        "train.head(5)"
      ]
    },
    {
      "cell_type": "markdown",
      "metadata": {
        "id": "MjGUYwLN6QJX"
      },
      "source": [
        "<table align=\"left\">\n",
        "    <tr>\n",
        "        <td>\n",
        "            <div align=\"left\", style=\"font-size:120%\">\n",
        "                <font color=\"#21618C\">\n",
        "                    <b>Prepare the data </b>\n",
        "                </font>\n",
        "            </div>\n",
        "        </td>\n",
        "    </tr>\n",
        "</table>"
      ]
    },
    {
      "cell_type": "code",
      "execution_count": 4,
      "metadata": {
        "id": "lk6-pJ0J6QJZ",
        "colab": {
          "base_uri": "https://localhost:8080/"
        },
        "outputId": "1104c318-b441-4c91-a212-cc3cd1e73223"
      },
      "outputs": [
        {
          "output_type": "execute_result",
          "data": {
            "text/plain": [
              "id           0\n",
              "title      558\n",
              "author    1957\n",
              "text        39\n",
              "label        0\n",
              "dtype: int64"
            ]
          },
          "metadata": {},
          "execution_count": 4
        }
      ],
      "source": [
        "train.isnull().sum()"
      ]
    },
    {
      "cell_type": "code",
      "execution_count": 5,
      "metadata": {
        "colab": {
          "base_uri": "https://localhost:8080/"
        },
        "id": "m6Mrtcz5alQW",
        "outputId": "3188cf4d-3316-449e-fa53-f67dc3c74618"
      },
      "outputs": [
        {
          "output_type": "execute_result",
          "data": {
            "text/plain": [
              "id        39\n",
              "title     39\n",
              "author     0\n",
              "text       0\n",
              "label     39\n",
              "dtype: int64"
            ]
          },
          "metadata": {},
          "execution_count": 5
        }
      ],
      "source": [
        "train[train['author'].isna() & train['text'].isna()].count()"
      ]
    },
    {
      "cell_type": "code",
      "execution_count": 6,
      "metadata": {
        "id": "--MGJN7ialQW"
      },
      "outputs": [],
      "source": [
        "nan_idx = train[(train['author'].isna()) & (train['text'].isna())].index\n",
        "train.drop(nan_idx, inplace=True)"
      ]
    },
    {
      "cell_type": "code",
      "execution_count": 7,
      "metadata": {
        "colab": {
          "base_uri": "https://localhost:8080/"
        },
        "id": "ChQtqnZ8alQW",
        "outputId": "e568ce5f-ccad-4503-b83f-48f4e2c8c7a3"
      },
      "outputs": [
        {
          "output_type": "stream",
          "name": "stdout",
          "text": [
            "id           0\n",
            "title      558\n",
            "author    1918\n",
            "text         0\n",
            "label        0\n",
            "dtype: int64\n",
            "(20761, 5)\n"
          ]
        }
      ],
      "source": [
        "print(train.isnull().sum())\n",
        "print(train.shape)"
      ]
    },
    {
      "cell_type": "code",
      "execution_count": 8,
      "metadata": {
        "id": "jNee855salQW"
      },
      "outputs": [],
      "source": [
        "train = train.fillna(' ')"
      ]
    },
    {
      "cell_type": "code",
      "execution_count": 9,
      "metadata": {
        "colab": {
          "base_uri": "https://localhost:8080/"
        },
        "id": "Ao_tTU36alQX",
        "outputId": "dcb217fc-926a-4365-9418-a91e9cafbcf9"
      },
      "outputs": [
        {
          "output_type": "execute_result",
          "data": {
            "text/plain": [
              "id        0\n",
              "title     0\n",
              "author    0\n",
              "text      0\n",
              "label     0\n",
              "dtype: int64"
            ]
          },
          "metadata": {},
          "execution_count": 9
        }
      ],
      "source": [
        "train.isna().sum()"
      ]
    },
    {
      "cell_type": "code",
      "execution_count": 10,
      "metadata": {
        "colab": {
          "base_uri": "https://localhost:8080/"
        },
        "id": "3o08OGZCalQX",
        "outputId": "98c873a1-15ff-49ce-8753-78fbb0066b6f"
      },
      "outputs": [
        {
          "output_type": "stream",
          "name": "stdout",
          "text": [
            "<class 'pandas.core.frame.DataFrame'>\n",
            "Int64Index: 20761 entries, 0 to 20799\n",
            "Data columns (total 5 columns):\n",
            " #   Column  Non-Null Count  Dtype \n",
            "---  ------  --------------  ----- \n",
            " 0   id      20761 non-null  int64 \n",
            " 1   title   20761 non-null  object\n",
            " 2   author  20761 non-null  object\n",
            " 3   text    20761 non-null  object\n",
            " 4   label   20761 non-null  int64 \n",
            "dtypes: int64(2), object(3)\n",
            "memory usage: 973.2+ KB\n"
          ]
        }
      ],
      "source": [
        "train.info()"
      ]
    },
    {
      "cell_type": "markdown",
      "metadata": {
        "id": "ecCM_rlo6QJb"
      },
      "source": [
        "<table align=\"left\">\n",
        "    <tr>\n",
        "        <td>\n",
        "            <div align=\"left\", style=\"font-size:120%\">\n",
        "                <font color=\"#21618C\">\n",
        "                    <b>Perform an Text preprocessing tasks whichever is appropriate </b>\n",
        "                </font>\n",
        "            </div>\n",
        "        </td>\n",
        "    </tr>\n",
        "</table>"
      ]
    },
    {
      "cell_type": "code",
      "execution_count": 11,
      "metadata": {
        "id": "HFuY-n1KalQY"
      },
      "outputs": [],
      "source": [
        "def cleantext(text):\n",
        "    cleantext=re.sub('[^A-Za-z0-9]+', ' ',text)\n",
        "    low = cleantext.lower()\n",
        "    txt = low.strip()\n",
        "    return txt"
      ]
    },
    {
      "cell_type": "code",
      "execution_count": 12,
      "metadata": {
        "id": "7PFytrsYalQZ"
      },
      "outputs": [],
      "source": [
        "train[\"title\"] = train[\"title\"].apply(lambda x: cleantext(x))\n",
        "train[\"author\"] = train[\"author\"].apply(lambda x: cleantext(x))\n",
        "train[\"text\"] = train[\"text\"].apply(lambda x: cleantext(x))"
      ]
    },
    {
      "cell_type": "code",
      "execution_count": 13,
      "metadata": {
        "colab": {
          "base_uri": "https://localhost:8080/",
          "height": 206
        },
        "id": "059HtVf7alQa",
        "outputId": "3211548e-917c-4b74-c320-e9c255872292"
      },
      "outputs": [
        {
          "output_type": "execute_result",
          "data": {
            "text/plain": [
              "   id                                              title              author  \\\n",
              "0   0  house dem aide we didn t even see comey s lett...       darrell lucus   \n",
              "1   1  flynn hillary clinton big woman on campus brei...      daniel j flynn   \n",
              "2   2                  why the truth might get you fired  consortiumnews com   \n",
              "3   3  15 civilians killed in single us airstrike hav...     jessica purkiss   \n",
              "4   4  iranian woman jailed for fictional unpublished...      howard portnoy   \n",
              "\n",
              "                                                text  label  \\\n",
              "0  house dem aide we didn t even see comey s lett...      1   \n",
              "1  ever get the feeling your life circles the rou...      0   \n",
              "2  why the truth might get you fired october 29 2...      1   \n",
              "3  videos 15 civilians killed in single us airstr...      1   \n",
              "4  print an iranian woman has been sentenced to s...      1   \n",
              "\n",
              "                                             article  \n",
              "0  house dem aide we didn t even see comey s lett...  \n",
              "1  flynn hillary clinton big woman on campus brei...  \n",
              "2  why the truth might get you firedwhy the truth...  \n",
              "3  15 civilians killed in single us airstrike hav...  \n",
              "4  iranian woman jailed for fictional unpublished...  "
            ],
            "text/html": [
              "\n",
              "  <div id=\"df-5701f81c-d878-438e-af88-ca9d9a175a14\">\n",
              "    <div class=\"colab-df-container\">\n",
              "      <div>\n",
              "<style scoped>\n",
              "    .dataframe tbody tr th:only-of-type {\n",
              "        vertical-align: middle;\n",
              "    }\n",
              "\n",
              "    .dataframe tbody tr th {\n",
              "        vertical-align: top;\n",
              "    }\n",
              "\n",
              "    .dataframe thead th {\n",
              "        text-align: right;\n",
              "    }\n",
              "</style>\n",
              "<table border=\"1\" class=\"dataframe\">\n",
              "  <thead>\n",
              "    <tr style=\"text-align: right;\">\n",
              "      <th></th>\n",
              "      <th>id</th>\n",
              "      <th>title</th>\n",
              "      <th>author</th>\n",
              "      <th>text</th>\n",
              "      <th>label</th>\n",
              "      <th>article</th>\n",
              "    </tr>\n",
              "  </thead>\n",
              "  <tbody>\n",
              "    <tr>\n",
              "      <th>0</th>\n",
              "      <td>0</td>\n",
              "      <td>house dem aide we didn t even see comey s lett...</td>\n",
              "      <td>darrell lucus</td>\n",
              "      <td>house dem aide we didn t even see comey s lett...</td>\n",
              "      <td>1</td>\n",
              "      <td>house dem aide we didn t even see comey s lett...</td>\n",
              "    </tr>\n",
              "    <tr>\n",
              "      <th>1</th>\n",
              "      <td>1</td>\n",
              "      <td>flynn hillary clinton big woman on campus brei...</td>\n",
              "      <td>daniel j flynn</td>\n",
              "      <td>ever get the feeling your life circles the rou...</td>\n",
              "      <td>0</td>\n",
              "      <td>flynn hillary clinton big woman on campus brei...</td>\n",
              "    </tr>\n",
              "    <tr>\n",
              "      <th>2</th>\n",
              "      <td>2</td>\n",
              "      <td>why the truth might get you fired</td>\n",
              "      <td>consortiumnews com</td>\n",
              "      <td>why the truth might get you fired october 29 2...</td>\n",
              "      <td>1</td>\n",
              "      <td>why the truth might get you firedwhy the truth...</td>\n",
              "    </tr>\n",
              "    <tr>\n",
              "      <th>3</th>\n",
              "      <td>3</td>\n",
              "      <td>15 civilians killed in single us airstrike hav...</td>\n",
              "      <td>jessica purkiss</td>\n",
              "      <td>videos 15 civilians killed in single us airstr...</td>\n",
              "      <td>1</td>\n",
              "      <td>15 civilians killed in single us airstrike hav...</td>\n",
              "    </tr>\n",
              "    <tr>\n",
              "      <th>4</th>\n",
              "      <td>4</td>\n",
              "      <td>iranian woman jailed for fictional unpublished...</td>\n",
              "      <td>howard portnoy</td>\n",
              "      <td>print an iranian woman has been sentenced to s...</td>\n",
              "      <td>1</td>\n",
              "      <td>iranian woman jailed for fictional unpublished...</td>\n",
              "    </tr>\n",
              "  </tbody>\n",
              "</table>\n",
              "</div>\n",
              "      <button class=\"colab-df-convert\" onclick=\"convertToInteractive('df-5701f81c-d878-438e-af88-ca9d9a175a14')\"\n",
              "              title=\"Convert this dataframe to an interactive table.\"\n",
              "              style=\"display:none;\">\n",
              "        \n",
              "  <svg xmlns=\"http://www.w3.org/2000/svg\" height=\"24px\"viewBox=\"0 0 24 24\"\n",
              "       width=\"24px\">\n",
              "    <path d=\"M0 0h24v24H0V0z\" fill=\"none\"/>\n",
              "    <path d=\"M18.56 5.44l.94 2.06.94-2.06 2.06-.94-2.06-.94-.94-2.06-.94 2.06-2.06.94zm-11 1L8.5 8.5l.94-2.06 2.06-.94-2.06-.94L8.5 2.5l-.94 2.06-2.06.94zm10 10l.94 2.06.94-2.06 2.06-.94-2.06-.94-.94-2.06-.94 2.06-2.06.94z\"/><path d=\"M17.41 7.96l-1.37-1.37c-.4-.4-.92-.59-1.43-.59-.52 0-1.04.2-1.43.59L10.3 9.45l-7.72 7.72c-.78.78-.78 2.05 0 2.83L4 21.41c.39.39.9.59 1.41.59.51 0 1.02-.2 1.41-.59l7.78-7.78 2.81-2.81c.8-.78.8-2.07 0-2.86zM5.41 20L4 18.59l7.72-7.72 1.47 1.35L5.41 20z\"/>\n",
              "  </svg>\n",
              "      </button>\n",
              "      \n",
              "  <style>\n",
              "    .colab-df-container {\n",
              "      display:flex;\n",
              "      flex-wrap:wrap;\n",
              "      gap: 12px;\n",
              "    }\n",
              "\n",
              "    .colab-df-convert {\n",
              "      background-color: #E8F0FE;\n",
              "      border: none;\n",
              "      border-radius: 50%;\n",
              "      cursor: pointer;\n",
              "      display: none;\n",
              "      fill: #1967D2;\n",
              "      height: 32px;\n",
              "      padding: 0 0 0 0;\n",
              "      width: 32px;\n",
              "    }\n",
              "\n",
              "    .colab-df-convert:hover {\n",
              "      background-color: #E2EBFA;\n",
              "      box-shadow: 0px 1px 2px rgba(60, 64, 67, 0.3), 0px 1px 3px 1px rgba(60, 64, 67, 0.15);\n",
              "      fill: #174EA6;\n",
              "    }\n",
              "\n",
              "    [theme=dark] .colab-df-convert {\n",
              "      background-color: #3B4455;\n",
              "      fill: #D2E3FC;\n",
              "    }\n",
              "\n",
              "    [theme=dark] .colab-df-convert:hover {\n",
              "      background-color: #434B5C;\n",
              "      box-shadow: 0px 1px 3px 1px rgba(0, 0, 0, 0.15);\n",
              "      filter: drop-shadow(0px 1px 2px rgba(0, 0, 0, 0.3));\n",
              "      fill: #FFFFFF;\n",
              "    }\n",
              "  </style>\n",
              "\n",
              "      <script>\n",
              "        const buttonEl =\n",
              "          document.querySelector('#df-5701f81c-d878-438e-af88-ca9d9a175a14 button.colab-df-convert');\n",
              "        buttonEl.style.display =\n",
              "          google.colab.kernel.accessAllowed ? 'block' : 'none';\n",
              "\n",
              "        async function convertToInteractive(key) {\n",
              "          const element = document.querySelector('#df-5701f81c-d878-438e-af88-ca9d9a175a14');\n",
              "          const dataTable =\n",
              "            await google.colab.kernel.invokeFunction('convertToInteractive',\n",
              "                                                     [key], {});\n",
              "          if (!dataTable) return;\n",
              "\n",
              "          const docLinkHtml = 'Like what you see? Visit the ' +\n",
              "            '<a target=\"_blank\" href=https://colab.research.google.com/notebooks/data_table.ipynb>data table notebook</a>'\n",
              "            + ' to learn more about interactive tables.';\n",
              "          element.innerHTML = '';\n",
              "          dataTable['output_type'] = 'display_data';\n",
              "          await google.colab.output.renderOutput(dataTable, element);\n",
              "          const docLink = document.createElement('div');\n",
              "          docLink.innerHTML = docLinkHtml;\n",
              "          element.appendChild(docLink);\n",
              "        }\n",
              "      </script>\n",
              "    </div>\n",
              "  </div>\n",
              "  "
            ]
          },
          "metadata": {},
          "execution_count": 13
        }
      ],
      "source": [
        "train = train.assign(article = train['title'] + train['text'] + train['author'])\n",
        "train.head()"
      ]
    },
    {
      "cell_type": "markdown",
      "metadata": {
        "id": "B9LXg5_L6QJe"
      },
      "source": [
        "<table align=\"left\">\n",
        "    <tr>\n",
        "        <td>\n",
        "            <div align=\"left\", style=\"font-size:120%\">\n",
        "                <font color=\"#21618C\">\n",
        "                    <b>Separate the dependent and the independent variables. </b>\n",
        "                </font>\n",
        "            </div>\n",
        "        </td>\n",
        "    </tr>\n",
        "</table>"
      ]
    },
    {
      "cell_type": "code",
      "execution_count": 14,
      "metadata": {
        "id": "MOwXhzU16QJh"
      },
      "outputs": [],
      "source": [
        "# Since we are going to split the dataset for train and test, will do this step later\n",
        "\n",
        "train_x = train['article']\n",
        "train_y = train['label']"
      ]
    },
    {
      "cell_type": "markdown",
      "metadata": {
        "id": "DfktbbvD6QJi"
      },
      "source": [
        "<table align=\"left\">\n",
        "    <tr>\n",
        "        <td>\n",
        "            <div align=\"left\", style=\"font-size:120%\">\n",
        "                <font color=\"#21618C\">\n",
        "                    <b>Print the first ten records of  data.</b>\n",
        "                </font>\n",
        "            </div>\n",
        "        </td>\n",
        "    </tr>\n",
        "</table>"
      ]
    },
    {
      "cell_type": "code",
      "execution_count": 15,
      "metadata": {
        "id": "hBucBg3K6QJj",
        "colab": {
          "base_uri": "https://localhost:8080/"
        },
        "outputId": "ecc06fee-754b-4383-bf26-2684d842ee6a"
      },
      "outputs": [
        {
          "output_type": "execute_result",
          "data": {
            "text/plain": [
              "0    house dem aide we didn t even see comey s lett...\n",
              "1    flynn hillary clinton big woman on campus brei...\n",
              "2    why the truth might get you firedwhy the truth...\n",
              "3    15 civilians killed in single us airstrike hav...\n",
              "4    iranian woman jailed for fictional unpublished...\n",
              "5    jackie mason hollywood would love trump if he ...\n",
              "6    life life of luxury elton john s 6 favorite sh...\n",
              "7    beno t hamon wins french socialist party s pre...\n",
              "8    excerpts from a draft script for donald trump ...\n",
              "9    a back channel plan for ukraine and russia cou...\n",
              "Name: article, dtype: object"
            ]
          },
          "metadata": {},
          "execution_count": 15
        }
      ],
      "source": [
        "train_x.head(10)"
      ]
    },
    {
      "cell_type": "markdown",
      "metadata": {
        "id": "J7C1C_Rc6QJj"
      },
      "source": [
        "<a id=\"logreg\"> </a>\n",
        "## 2. Feature Extraction - Do count vectorizer and pad sequence <br> use maximum features as 2000"
      ]
    },
    {
      "cell_type": "code",
      "execution_count": 16,
      "metadata": {
        "colab": {
          "base_uri": "https://localhost:8080/"
        },
        "id": "XyLQILwEalQc",
        "outputId": "2a696541-ab47-4391-fc82-b8c0c4db736b"
      },
      "outputs": [
        {
          "output_type": "stream",
          "name": "stdout",
          "text": [
            "(20761, 2000)\n"
          ]
        }
      ],
      "source": [
        "cv = CountVectorizer(max_features=2000)\n",
        "tr = cv.fit_transform(train_x).toarray()\n",
        "print(tr.shape)"
      ]
    },
    {
      "cell_type": "code",
      "execution_count": 17,
      "metadata": {
        "colab": {
          "base_uri": "https://localhost:8080/"
        },
        "id": "v4fTmlu2alQc",
        "outputId": "c21c8c38-6859-4f4c-9fa0-49a375be1fbb"
      },
      "outputs": [
        {
          "output_type": "execute_result",
          "data": {
            "text/plain": [
              "array([[0, 0, 0, ..., 0, 0, 0],\n",
              "       [0, 0, 0, ..., 0, 0, 0],\n",
              "       [0, 0, 0, ..., 0, 0, 0],\n",
              "       ...,\n",
              "       [1, 1, 0, ..., 0, 0, 0],\n",
              "       [0, 1, 0, ..., 0, 0, 0],\n",
              "       [3, 0, 0, ..., 0, 0, 0]], dtype=int32)"
            ]
          },
          "metadata": {},
          "execution_count": 17
        }
      ],
      "source": [
        "train_x = tf.keras.preprocessing.sequence.pad_sequences(tr, padding='post')\n",
        "train_x"
      ]
    },
    {
      "cell_type": "markdown",
      "metadata": {
        "id": "_tunBXPv_md1"
      },
      "source": [
        "Split the training and testing data"
      ]
    },
    {
      "cell_type": "code",
      "execution_count": 18,
      "metadata": {
        "id": "xG7XJlpV_8Al"
      },
      "outputs": [],
      "source": [
        "X_train, X_test, y_train, y_test = train_test_split(train_x, train_y, test_size=0.3, random_state=0)"
      ]
    },
    {
      "cell_type": "markdown",
      "metadata": {
        "collapsed": true,
        "id": "CyIb2Ea_6QJm"
      },
      "source": [
        "<table align=\"left\">\n",
        "    <tr>\n",
        "        <td>\n",
        "            <div align=\"left\", style=\"font-size:120%\">\n",
        "                <font color=\"#21618C\">\n",
        "                    <b>Print the shape of both features and label:<br> \n",
        "                        \n",
        "                \n",
        "</table>"
      ]
    },
    {
      "cell_type": "code",
      "execution_count": 19,
      "metadata": {
        "colab": {
          "base_uri": "https://localhost:8080/"
        },
        "id": "q9pVwn59alQd",
        "outputId": "c0ddc997-93e2-4728-f902-f5d9b21578eb"
      },
      "outputs": [
        {
          "output_type": "stream",
          "name": "stdout",
          "text": [
            "Train - Features:  (14532, 2000)\n",
            "Train - Labels:  (14532,)\n",
            "------------------------------\n",
            "Test - Features:  (6229, 2000)\n",
            "Test - Labels:  (6229,)\n"
          ]
        }
      ],
      "source": [
        "print(\"Train - Features: \", X_train.shape)\n",
        "print(\"Train - Labels: \", y_train.shape)\n",
        "print(30 * '-')\n",
        "print(\"Test - Features: \", X_test.shape)\n",
        "print(\"Test - Labels: \", y_test.shape)"
      ]
    },
    {
      "cell_type": "markdown",
      "metadata": {
        "id": "5EkW9HhH6QJm"
      },
      "source": [
        "## 3.Design a LSTM Model \n"
      ]
    },
    {
      "cell_type": "code",
      "execution_count": 20,
      "metadata": {
        "id": "ep00oBu2alQd"
      },
      "outputs": [],
      "source": [
        "model = Sequential()\n",
        "model.add(Embedding(2000, 20))\n",
        "model.add(LSTM(10))\n",
        "model.add(Dense(1, activation='sigmoid'))"
      ]
    },
    {
      "cell_type": "markdown",
      "metadata": {
        "id": "Ezo3bhUlAknc"
      },
      "source": [
        "print  the model summary"
      ]
    },
    {
      "cell_type": "code",
      "execution_count": 21,
      "metadata": {
        "id": "NOjagELH6QJm",
        "colab": {
          "base_uri": "https://localhost:8080/"
        },
        "outputId": "562ccb18-44af-4405-edc4-92ee16824d05"
      },
      "outputs": [
        {
          "output_type": "stream",
          "name": "stdout",
          "text": [
            "Model: \"sequential\"\n",
            "_________________________________________________________________\n",
            " Layer (type)                Output Shape              Param #   \n",
            "=================================================================\n",
            " embedding (Embedding)       (None, None, 20)          40000     \n",
            "                                                                 \n",
            " lstm (LSTM)                 (None, 10)                1240      \n",
            "                                                                 \n",
            " dense (Dense)               (None, 1)                 11        \n",
            "                                                                 \n",
            "=================================================================\n",
            "Total params: 41,251\n",
            "Trainable params: 41,251\n",
            "Non-trainable params: 0\n",
            "_________________________________________________________________\n"
          ]
        }
      ],
      "source": [
        "model.summary()"
      ]
    },
    {
      "cell_type": "markdown",
      "metadata": {
        "id": "njsDi5B-ArXt"
      },
      "source": [
        "Train the model"
      ]
    },
    {
      "cell_type": "code",
      "execution_count": 22,
      "metadata": {
        "id": "8KhS2sXB6QJn",
        "colab": {
          "base_uri": "https://localhost:8080/"
        },
        "outputId": "006de17f-94c7-4620-a757-7c6bf421278e"
      },
      "outputs": [
        {
          "output_type": "stream",
          "name": "stdout",
          "text": [
            "Epoch 1/10\n",
            "30/30 [==============================] - 68s 2s/step - loss: 0.6915 - accuracy: 0.5418 - val_loss: 0.6889 - val_accuracy: 0.5497\n",
            "Epoch 2/10\n",
            "30/30 [==============================] - 61s 2s/step - loss: 0.6750 - accuracy: 0.5864 - val_loss: 0.6430 - val_accuracy: 0.6300\n",
            "Epoch 3/10\n",
            "30/30 [==============================] - 64s 2s/step - loss: 0.6440 - accuracy: 0.6180 - val_loss: 0.6389 - val_accuracy: 0.6234\n",
            "Epoch 4/10\n",
            "30/30 [==============================] - 63s 2s/step - loss: 0.6395 - accuracy: 0.6197 - val_loss: 0.6352 - val_accuracy: 0.6229\n",
            "Epoch 5/10\n",
            "30/30 [==============================] - 60s 2s/step - loss: 0.6373 - accuracy: 0.6207 - val_loss: 0.6361 - val_accuracy: 0.6293\n",
            "Epoch 6/10\n",
            "30/30 [==============================] - 62s 2s/step - loss: 0.6340 - accuracy: 0.6259 - val_loss: 0.6313 - val_accuracy: 0.6237\n",
            "Epoch 7/10\n",
            "30/30 [==============================] - 63s 2s/step - loss: 0.6326 - accuracy: 0.6250 - val_loss: 0.6296 - val_accuracy: 0.6248\n",
            "Epoch 8/10\n",
            "30/30 [==============================] - 61s 2s/step - loss: 0.6303 - accuracy: 0.6199 - val_loss: 0.6278 - val_accuracy: 0.6271\n",
            "Epoch 9/10\n",
            "30/30 [==============================] - 61s 2s/step - loss: 0.6285 - accuracy: 0.6259 - val_loss: 0.6260 - val_accuracy: 0.6282\n",
            "Epoch 10/10\n",
            "30/30 [==============================] - 63s 2s/step - loss: 0.6295 - accuracy: 0.6274 - val_loss: 0.6323 - val_accuracy: 0.6359\n"
          ]
        }
      ],
      "source": [
        "model.compile(loss='binary_crossentropy', optimizer='adam', metrics=['accuracy'])\n",
        "\n",
        "history_lstm = model.fit(X_train, y_train, batch_size=500, epochs=10, validation_data=(X_test, y_test))"
      ]
    },
    {
      "cell_type": "markdown",
      "metadata": {
        "id": "VZrZDC2FA4-E"
      },
      "source": [
        "Validate the model"
      ]
    },
    {
      "cell_type": "code",
      "execution_count": 23,
      "metadata": {
        "id": "B91B6LepA9eI",
        "colab": {
          "base_uri": "https://localhost:8080/"
        },
        "outputId": "11ffb294-cb2e-40a9-cece-019ccea594e0"
      },
      "outputs": [
        {
          "output_type": "stream",
          "name": "stdout",
          "text": [
            "13/13 [==============================] - 7s 526ms/step - loss: 0.6323 - accuracy: 0.6359\n",
            "Test score: 0.6322558522224426\n",
            "Test accuracy: 0.635896623134613\n"
          ]
        }
      ],
      "source": [
        "score, acc = model.evaluate(X_test, y_test, batch_size=500)\n",
        "print('Test score:', score)\n",
        "print('Test accuracy:', acc)"
      ]
    },
    {
      "cell_type": "code",
      "execution_count": 24,
      "metadata": {
        "colab": {
          "base_uri": "https://localhost:8080/"
        },
        "id": "3A6E83o-alQe",
        "outputId": "40cba99b-0953-4e16-85ec-c111e52bcbf7"
      },
      "outputs": [
        {
          "output_type": "execute_result",
          "data": {
            "text/plain": [
              "<keras.callbacks.History at 0x7ff0c4d740d0>"
            ]
          },
          "metadata": {},
          "execution_count": 24
        }
      ],
      "source": [
        "history_lstm"
      ]
    },
    {
      "cell_type": "code",
      "execution_count": 25,
      "metadata": {
        "colab": {
          "base_uri": "https://localhost:8080/",
          "height": 282
        },
        "id": "1JBE_OJSalQe",
        "outputId": "a17e163c-5820-4603-e0c8-ef1876d67118"
      },
      "outputs": [
        {
          "output_type": "execute_result",
          "data": {
            "text/plain": [
              "<matplotlib.axes._subplots.AxesSubplot at 0x7ff0bf8547c0>"
            ]
          },
          "metadata": {},
          "execution_count": 25
        },
        {
          "output_type": "display_data",
          "data": {
            "text/plain": [
              "<Figure size 432x288 with 1 Axes>"
            ],
            "image/png": "[encoded data removed]"
          },
          "metadata": {
            "needs_background": "light"
          }
        }
      ],
      "source": [
        "history_lstm1 = pd.DataFrame(history_lstm.history)\n",
        "\n",
        "history_lstm1.plot()"
      ]
    },
    {
      "cell_type": "code",
      "execution_count": 26,
      "metadata": {
        "colab": {
          "base_uri": "https://localhost:8080/",
          "height": 363
        },
        "id": "21rHiBHQalQf",
        "outputId": "ccbc488f-cdcf-4db6-eb61-459f93a61f1d"
      },
      "outputs": [
        {
          "output_type": "execute_result",
          "data": {
            "text/plain": [
              "       loss  accuracy  val_loss  val_accuracy\n",
              "0  0.691544  0.541770  0.688855      0.549687\n",
              "1  0.675021  0.586430  0.643030      0.629957\n",
              "2  0.644034  0.618015  0.638900      0.623375\n",
              "3  0.639468  0.619667  0.635202      0.622893\n",
              "4  0.637295  0.620699  0.636081      0.629314\n",
              "5  0.634002  0.625929  0.631297      0.623696\n",
              "6  0.632610  0.625034  0.629601      0.624819\n",
              "7  0.630324  0.619942  0.627825      0.627067\n",
              "8  0.628524  0.625860  0.626023      0.628191\n",
              "9  0.629476  0.627443  0.632256      0.635897"
            ],
            "text/html": [
              "\n",
              "  <div id=\"df-ee2defbc-5a6a-4a07-a165-04df19530dd4\">\n",
              "    <div class=\"colab-df-container\">\n",
              "      <div>\n",
              "<style scoped>\n",
              "    .dataframe tbody tr th:only-of-type {\n",
              "        vertical-align: middle;\n",
              "    }\n",
              "\n",
              "    .dataframe tbody tr th {\n",
              "        vertical-align: top;\n",
              "    }\n",
              "\n",
              "    .dataframe thead th {\n",
              "        text-align: right;\n",
              "    }\n",
              "</style>\n",
              "<table border=\"1\" class=\"dataframe\">\n",
              "  <thead>\n",
              "    <tr style=\"text-align: right;\">\n",
              "      <th></th>\n",
              "      <th>loss</th>\n",
              "      <th>accuracy</th>\n",
              "      <th>val_loss</th>\n",
              "      <th>val_accuracy</th>\n",
              "    </tr>\n",
              "  </thead>\n",
              "  <tbody>\n",
              "    <tr>\n",
              "      <th>0</th>\n",
              "      <td>0.691544</td>\n",
              "      <td>0.541770</td>\n",
              "      <td>0.688855</td>\n",
              "      <td>0.549687</td>\n",
              "    </tr>\n",
              "    <tr>\n",
              "      <th>1</th>\n",
              "      <td>0.675021</td>\n",
              "      <td>0.586430</td>\n",
              "      <td>0.643030</td>\n",
              "      <td>0.629957</td>\n",
              "    </tr>\n",
              "    <tr>\n",
              "      <th>2</th>\n",
              "      <td>0.644034</td>\n",
              "      <td>0.618015</td>\n",
              "      <td>0.638900</td>\n",
              "      <td>0.623375</td>\n",
              "    </tr>\n",
              "    <tr>\n",
              "      <th>3</th>\n",
              "      <td>0.639468</td>\n",
              "      <td>0.619667</td>\n",
              "      <td>0.635202</td>\n",
              "      <td>0.622893</td>\n",
              "    </tr>\n",
              "    <tr>\n",
              "      <th>4</th>\n",
              "      <td>0.637295</td>\n",
              "      <td>0.620699</td>\n",
              "      <td>0.636081</td>\n",
              "      <td>0.629314</td>\n",
              "    </tr>\n",
              "    <tr>\n",
              "      <th>5</th>\n",
              "      <td>0.634002</td>\n",
              "      <td>0.625929</td>\n",
              "      <td>0.631297</td>\n",
              "      <td>0.623696</td>\n",
              "    </tr>\n",
              "    <tr>\n",
              "      <th>6</th>\n",
              "      <td>0.632610</td>\n",
              "      <td>0.625034</td>\n",
              "      <td>0.629601</td>\n",
              "      <td>0.624819</td>\n",
              "    </tr>\n",
              "    <tr>\n",
              "      <th>7</th>\n",
              "      <td>0.630324</td>\n",
              "      <td>0.619942</td>\n",
              "      <td>0.627825</td>\n",
              "      <td>0.627067</td>\n",
              "    </tr>\n",
              "    <tr>\n",
              "      <th>8</th>\n",
              "      <td>0.628524</td>\n",
              "      <td>0.625860</td>\n",
              "      <td>0.626023</td>\n",
              "      <td>0.628191</td>\n",
              "    </tr>\n",
              "    <tr>\n",
              "      <th>9</th>\n",
              "      <td>0.629476</td>\n",
              "      <td>0.627443</td>\n",
              "      <td>0.632256</td>\n",
              "      <td>0.635897</td>\n",
              "    </tr>\n",
              "  </tbody>\n",
              "</table>\n",
              "</div>\n",
              "      <button class=\"colab-df-convert\" onclick=\"convertToInteractive('df-ee2defbc-5a6a-4a07-a165-04df19530dd4')\"\n",
              "              title=\"Convert this dataframe to an interactive table.\"\n",
              "              style=\"display:none;\">\n",
              "        \n",
              "  <svg xmlns=\"http://www.w3.org/2000/svg\" height=\"24px\"viewBox=\"0 0 24 24\"\n",
              "       width=\"24px\">\n",
              "    <path d=\"M0 0h24v24H0V0z\" fill=\"none\"/>\n",
              "    <path d=\"M18.56 5.44l.94 2.06.94-2.06 2.06-.94-2.06-.94-.94-2.06-.94 2.06-2.06.94zm-11 1L8.5 8.5l.94-2.06 2.06-.94-2.06-.94L8.5 2.5l-.94 2.06-2.06.94zm10 10l.94 2.06.94-2.06 2.06-.94-2.06-.94-.94-2.06-.94 2.06-2.06.94z\"/><path d=\"M17.41 7.96l-1.37-1.37c-.4-.4-.92-.59-1.43-.59-.52 0-1.04.2-1.43.59L10.3 9.45l-7.72 7.72c-.78.78-.78 2.05 0 2.83L4 21.41c.39.39.9.59 1.41.59.51 0 1.02-.2 1.41-.59l7.78-7.78 2.81-2.81c.8-.78.8-2.07 0-2.86zM5.41 20L4 18.59l7.72-7.72 1.47 1.35L5.41 20z\"/>\n",
              "  </svg>\n",
              "      </button>\n",
              "      \n",
              "  <style>\n",
              "    .colab-df-container {\n",
              "      display:flex;\n",
              "      flex-wrap:wrap;\n",
              "      gap: 12px;\n",
              "    }\n",
              "\n",
              "    .colab-df-convert {\n",
              "      background-color: #E8F0FE;\n",
              "      border: none;\n",
              "      border-radius: 50%;\n",
              "      cursor: pointer;\n",
              "      display: none;\n",
              "      fill: #1967D2;\n",
              "      height: 32px;\n",
              "      padding: 0 0 0 0;\n",
              "      width: 32px;\n",
              "    }\n",
              "\n",
              "    .colab-df-convert:hover {\n",
              "      background-color: #E2EBFA;\n",
              "      box-shadow: 0px 1px 2px rgba(60, 64, 67, 0.3), 0px 1px 3px 1px rgba(60, 64, 67, 0.15);\n",
              "      fill: #174EA6;\n",
              "    }\n",
              "\n",
              "    [theme=dark] .colab-df-convert {\n",
              "      background-color: #3B4455;\n",
              "      fill: #D2E3FC;\n",
              "    }\n",
              "\n",
              "    [theme=dark] .colab-df-convert:hover {\n",
              "      background-color: #434B5C;\n",
              "      box-shadow: 0px 1px 3px 1px rgba(0, 0, 0, 0.15);\n",
              "      filter: drop-shadow(0px 1px 2px rgba(0, 0, 0, 0.3));\n",
              "      fill: #FFFFFF;\n",
              "    }\n",
              "  </style>\n",
              "\n",
              "      <script>\n",
              "        const buttonEl =\n",
              "          document.querySelector('#df-ee2defbc-5a6a-4a07-a165-04df19530dd4 button.colab-df-convert');\n",
              "        buttonEl.style.display =\n",
              "          google.colab.kernel.accessAllowed ? 'block' : 'none';\n",
              "\n",
              "        async function convertToInteractive(key) {\n",
              "          const element = document.querySelector('#df-ee2defbc-5a6a-4a07-a165-04df19530dd4');\n",
              "          const dataTable =\n",
              "            await google.colab.kernel.invokeFunction('convertToInteractive',\n",
              "                                                     [key], {});\n",
              "          if (!dataTable) return;\n",
              "\n",
              "          const docLinkHtml = 'Like what you see? Visit the ' +\n",
              "            '<a target=\"_blank\" href=https://colab.research.google.com/notebooks/data_table.ipynb>data table notebook</a>'\n",
              "            + ' to learn more about interactive tables.';\n",
              "          element.innerHTML = '';\n",
              "          dataTable['output_type'] = 'display_data';\n",
              "          await google.colab.output.renderOutput(dataTable, element);\n",
              "          const docLink = document.createElement('div');\n",
              "          docLink.innerHTML = docLinkHtml;\n",
              "          element.appendChild(docLink);\n",
              "        }\n",
              "      </script>\n",
              "    </div>\n",
              "  </div>\n",
              "  "
            ]
          },
          "metadata": {},
          "execution_count": 26
        }
      ],
      "source": [
        "history_lstm1"
      ]
    },
    {
      "cell_type": "markdown",
      "metadata": {
        "id": "tkG_jLTO6QJo"
      },
      "source": [
        "## 4.Test the model with your own example.\n",
        "\n"
      ]
    },
    {
      "cell_type": "code",
      "execution_count": 27,
      "metadata": {
        "id": "DMaF4dMP6QJo"
      },
      "outputs": [],
      "source": [
        "def predict(news):\n",
        "    txt = cleantext(news)\n",
        "    txt = [txt]\n",
        "    cv = CountVectorizer(max_features=2000)\n",
        "    tr = cv.fit_transform(txt).toarray()\n",
        "    test = tf.keras.preprocessing.sequence.pad_sequences(tr, padding='post')\n",
        "    \n",
        "    label = model.predict(test)\n",
        "    return label"
      ]
    },
    {
      "cell_type": "code",
      "execution_count": 28,
      "metadata": {
        "colab": {
          "base_uri": "https://localhost:8080/"
        },
        "id": "b1v7WsyAalQf",
        "outputId": "f9c5cd2d-7a3a-4aa9-bb69-6edde485437e"
      },
      "outputs": [
        {
          "output_type": "stream",
          "name": "stdout",
          "text": [
            "1/1 [==============================] - 1s 644ms/step\n",
            "Fake News\n"
          ]
        }
      ],
      "source": [
        "result = predict('recipe circulating social media claimed that garlic cured coronavirus')\n",
        "\n",
        "if(result < 0.5):\n",
        "    print(\"Fake News\")\n",
        "else:\n",
        "    print(\"Not a Fake News\")"
      ]
    },
    {
      "cell_type": "markdown",
      "metadata": {
        "id": "urOKkEOa6QJp"
      },
      "source": [
        "## 5.Build the model by using \n",
        "\n",
        "1.   Simple RNN with two layers\n",
        "2.   Bidirectional LSTM\n",
        "\n"
      ]
    },
    {
      "cell_type": "markdown",
      "metadata": {
        "id": "z934Bnt1alQf"
      },
      "source": [
        "Build the model using Simple RNN (2 layers)"
      ]
    },
    {
      "cell_type": "code",
      "execution_count": 29,
      "metadata": {
        "id": "66Kd5JL7alQf"
      },
      "outputs": [],
      "source": [
        "rnn_model = Sequential()\n",
        "rnn_model.add(Embedding(2000, 20))\n",
        "rnn_model.add(SimpleRNN(10))\n",
        "# rnn_model.add(Dense(6, activation='relu'))\n",
        "rnn_model.add(Dense(1, activation='sigmoid'))"
      ]
    },
    {
      "cell_type": "code",
      "execution_count": 30,
      "metadata": {
        "colab": {
          "base_uri": "https://localhost:8080/"
        },
        "id": "RRmrcEaMalQg",
        "outputId": "8a8d84b0-3d91-4131-9145-ff58d3ae9ab9"
      },
      "outputs": [
        {
          "output_type": "stream",
          "name": "stdout",
          "text": [
            "Model: \"sequential_1\"\n",
            "_________________________________________________________________\n",
            " Layer (type)                Output Shape              Param #   \n",
            "=================================================================\n",
            " embedding_1 (Embedding)     (None, None, 20)          40000     \n",
            "                                                                 \n",
            " simple_rnn (SimpleRNN)      (None, 10)                310       \n",
            "                                                                 \n",
            " dense_1 (Dense)             (None, 1)                 11        \n",
            "                                                                 \n",
            "=================================================================\n",
            "Total params: 40,321\n",
            "Trainable params: 40,321\n",
            "Non-trainable params: 0\n",
            "_________________________________________________________________\n"
          ]
        }
      ],
      "source": [
        "rnn_model.summary()"
      ]
    },
    {
      "cell_type": "code",
      "execution_count": 31,
      "metadata": {
        "colab": {
          "base_uri": "https://localhost:8080/"
        },
        "id": "KTmx6rhUalQg",
        "outputId": "f7e6dd0b-2a6c-438d-e09d-d5cbb7bdffff"
      },
      "outputs": [
        {
          "output_type": "stream",
          "name": "stdout",
          "text": [
            "Epoch 1/10\n",
            "30/30 [==============================] - 42s 1s/step - loss: 0.6866 - accuracy: 0.5533 - val_loss: 0.6645 - val_accuracy: 0.6730\n",
            "Epoch 2/10\n",
            "30/30 [==============================] - 39s 1s/step - loss: 0.6469 - accuracy: 0.6821 - val_loss: 0.6364 - val_accuracy: 0.6762\n",
            "Epoch 3/10\n",
            "30/30 [==============================] - 41s 1s/step - loss: 0.6233 - accuracy: 0.7102 - val_loss: 0.6129 - val_accuracy: 0.7216\n",
            "Epoch 4/10\n",
            "30/30 [==============================] - 40s 1s/step - loss: 0.6031 - accuracy: 0.7282 - val_loss: 0.5949 - val_accuracy: 0.7374\n",
            "Epoch 5/10\n",
            "30/30 [==============================] - 40s 1s/step - loss: 0.5858 - accuracy: 0.7428 - val_loss: 0.5787 - val_accuracy: 0.7430\n",
            "Epoch 6/10\n",
            "30/30 [==============================] - 39s 1s/step - loss: 0.5709 - accuracy: 0.7488 - val_loss: 0.5648 - val_accuracy: 0.7489\n",
            "Epoch 7/10\n",
            "30/30 [==============================] - 39s 1s/step - loss: 0.5581 - accuracy: 0.7535 - val_loss: 0.5533 - val_accuracy: 0.7529\n",
            "Epoch 8/10\n",
            "30/30 [==============================] - 42s 1s/step - loss: 0.5481 - accuracy: 0.7581 - val_loss: 0.5441 - val_accuracy: 0.7603\n",
            "Epoch 9/10\n",
            "30/30 [==============================] - 40s 1s/step - loss: 0.5396 - accuracy: 0.7586 - val_loss: 0.5364 - val_accuracy: 0.7619\n",
            "Epoch 10/10\n",
            "30/30 [==============================] - 40s 1s/step - loss: 0.5326 - accuracy: 0.7620 - val_loss: 0.5300 - val_accuracy: 0.7629\n"
          ]
        }
      ],
      "source": [
        "rnn_model.compile(loss='binary_crossentropy', optimizer='adam', metrics=['accuracy'])\n",
        "history_rnn = rnn_model.fit(X_train, y_train, batch_size=500, epochs=10, validation_data=(X_test, y_test))"
      ]
    },
    {
      "cell_type": "code",
      "execution_count": 32,
      "metadata": {
        "colab": {
          "base_uri": "https://localhost:8080/"
        },
        "id": "ArnZWoLOalQg",
        "outputId": "98aae1c1-53c3-474b-8a70-44bdb16c475b"
      },
      "outputs": [
        {
          "output_type": "stream",
          "name": "stdout",
          "text": [
            "13/13 [==============================] - 3s 233ms/step - loss: 0.5300 - accuracy: 0.7629\n",
            "Test score: 0.5300129652023315\n",
            "Test accuracy: 0.7628833055496216\n"
          ]
        }
      ],
      "source": [
        "score, acc = rnn_model.evaluate(X_test, y_test, batch_size=500)\n",
        "print('Test score:', score)\n",
        "print('Test accuracy:', acc)"
      ]
    },
    {
      "cell_type": "code",
      "execution_count": 33,
      "metadata": {
        "colab": {
          "base_uri": "https://localhost:8080/",
          "height": 282
        },
        "id": "pGivBJlQalQg",
        "outputId": "91a695f6-d03e-4368-fa34-fcce39f18275"
      },
      "outputs": [
        {
          "output_type": "execute_result",
          "data": {
            "text/plain": [
              "<matplotlib.axes._subplots.AxesSubplot at 0x7ff0bc2a9670>"
            ]
          },
          "metadata": {},
          "execution_count": 33
        },
        {
          "output_type": "display_data",
          "data": {
            "text/plain": [
              "<Figure size 432x288 with 1 Axes>"
            ],
            "image/png": "[encoded data removed]"
          },
          "metadata": {
            "needs_background": "light"
          }
        }
      ],
      "source": [
        "history_rnn1 = pd.DataFrame(history_rnn.history)\n",
        "\n",
        "history_rnn1.plot()"
      ]
    },
    {
      "cell_type": "markdown",
      "metadata": {
        "id": "IY1YlWxX6QJp"
      },
      "source": [
        "Build the model using Bi-directional LSTM"
      ]
    },
    {
      "cell_type": "code",
      "execution_count": 34,
      "metadata": {
        "id": "ZNG1HCJxEwbJ"
      },
      "outputs": [],
      "source": [
        "bidirect_model = Sequential()\n",
        "bidirect_model.add(Embedding(2000, 20))\n",
        "bidirect_model.add(Bidirectional(LSTM(10)))\n",
        "bidirect_model.add(Dense(1, activation='sigmoid'))"
      ]
    },
    {
      "cell_type": "code",
      "execution_count": 35,
      "metadata": {
        "colab": {
          "base_uri": "https://localhost:8080/"
        },
        "id": "WX0Ma5vDalQh",
        "outputId": "5c59c89e-d808-4e63-be05-7ffbaa857603"
      },
      "outputs": [
        {
          "output_type": "stream",
          "name": "stdout",
          "text": [
            "Model: \"sequential_2\"\n",
            "_________________________________________________________________\n",
            " Layer (type)                Output Shape              Param #   \n",
            "=================================================================\n",
            " embedding_2 (Embedding)     (None, None, 20)          40000     \n",
            "                                                                 \n",
            " bidirectional (Bidirectiona  (None, 20)               2480      \n",
            " l)                                                              \n",
            "                                                                 \n",
            " dense_2 (Dense)             (None, 1)                 21        \n",
            "                                                                 \n",
            "=================================================================\n",
            "Total params: 42,501\n",
            "Trainable params: 42,501\n",
            "Non-trainable params: 0\n",
            "_________________________________________________________________\n"
          ]
        }
      ],
      "source": [
        "bidirect_model.summary()"
      ]
    },
    {
      "cell_type": "code",
      "execution_count": 36,
      "metadata": {
        "colab": {
          "base_uri": "https://localhost:8080/"
        },
        "id": "-mcWiQVUalQh",
        "outputId": "15153140-b95e-494e-9d67-e1aef3946671"
      },
      "outputs": [
        {
          "output_type": "stream",
          "name": "stdout",
          "text": [
            "Epoch 1/10\n",
            "30/30 [==============================] - 124s 4s/step - loss: 0.6912 - accuracy: 0.5414 - val_loss: 0.6895 - val_accuracy: 0.5230\n",
            "Epoch 2/10\n",
            "30/30 [==============================] - 112s 4s/step - loss: 0.6808 - accuracy: 0.5765 - val_loss: 0.6583 - val_accuracy: 0.6269\n",
            "Epoch 3/10\n",
            "30/30 [==============================] - 111s 4s/step - loss: 0.6490 - accuracy: 0.6224 - val_loss: 0.6425 - val_accuracy: 0.6227\n",
            "Epoch 4/10\n",
            "30/30 [==============================] - 115s 4s/step - loss: 0.6475 - accuracy: 0.6212 - val_loss: 0.6454 - val_accuracy: 0.6284\n",
            "Epoch 5/10\n",
            "30/30 [==============================] - 113s 4s/step - loss: 0.6434 - accuracy: 0.6257 - val_loss: 0.6415 - val_accuracy: 0.6288\n",
            "Epoch 6/10\n",
            "30/30 [==============================] - 117s 4s/step - loss: 0.6394 - accuracy: 0.6269 - val_loss: 0.6378 - val_accuracy: 0.6275\n",
            "Epoch 7/10\n",
            "30/30 [==============================] - 115s 4s/step - loss: 0.6378 - accuracy: 0.6254 - val_loss: 0.6351 - val_accuracy: 0.6277\n",
            "Epoch 8/10\n",
            "30/30 [==============================] - 114s 4s/step - loss: 0.6345 - accuracy: 0.6272 - val_loss: 0.6363 - val_accuracy: 0.6319\n",
            "Epoch 9/10\n",
            "30/30 [==============================] - 111s 4s/step - loss: 0.6322 - accuracy: 0.6229 - val_loss: 0.6377 - val_accuracy: 0.6170\n",
            "Epoch 10/10\n",
            "30/30 [==============================] - 112s 4s/step - loss: 0.6311 - accuracy: 0.6245 - val_loss: 0.6289 - val_accuracy: 0.6250\n"
          ]
        }
      ],
      "source": [
        "bidirect_model.compile(loss='binary_crossentropy', optimizer='adam', metrics=['accuracy'])\n",
        "history_bidirect = bidirect_model.fit(X_train, y_train, batch_size=500, epochs=10, validation_data=(X_test, y_test))"
      ]
    },
    {
      "cell_type": "code",
      "execution_count": 37,
      "metadata": {
        "colab": {
          "base_uri": "https://localhost:8080/"
        },
        "id": "KRmqdxLYalQh",
        "outputId": "9f002e1b-533b-4b79-9c4c-7f0bd6c42fba"
      },
      "outputs": [
        {
          "output_type": "stream",
          "name": "stdout",
          "text": [
            "13/13 [==============================] - 11s 852ms/step - loss: 0.6289 - accuracy: 0.6250\n",
            "Test score: 0.6289162635803223\n",
            "Test accuracy: 0.6249799132347107\n"
          ]
        }
      ],
      "source": [
        "score, acc = bidirect_model.evaluate(X_test, y_test, batch_size=500)\n",
        "print('Test score:', score)\n",
        "print('Test accuracy:', acc)"
      ]
    },
    {
      "cell_type": "code",
      "execution_count": null,
      "metadata": {
        "id": "BLzanakzalQh"
      },
      "outputs": [],
      "source": [
        "history_bidirect1 = pd.DataFrame(history_bidirect.history)\n",
        "\n",
        "history_bidirect1.plot()"
      ]
    },
    {
      "cell_type": "markdown",
      "metadata": {
        "id": "pDda0oXq6QJt"
      },
      "source": [
        "## 6. Compare the results of LSTM, RNN (two layers) and Bi-directional LSTM models "
      ]
    },
    {
      "cell_type": "code",
      "execution_count": 39,
      "metadata": {
        "id": "Jurx2_YACSRt",
        "colab": {
          "base_uri": "https://localhost:8080/",
          "height": 251
        },
        "outputId": "795a8b78-0162-4bc2-ee76-228fb56e7ca1"
      },
      "outputs": [
        {
          "output_type": "stream",
          "name": "stdout",
          "text": [
            "***********************************************************************\n",
            "***************** Comparison of different models **********************\n",
            "\n",
            "\n"
          ]
        },
        {
          "output_type": "execute_result",
          "data": {
            "text/plain": [
              "<pandas.io.formats.style.Styler at 0x7ff0b993b400>"
            ],
            "text/html": [
              "<style type=\"text/css\">\n",
              "#T_f07a3_row0_col0, #T_f07a3_row0_col1, #T_f07a3_row0_col2, #T_f07a3_row1_col0, #T_f07a3_row1_col1, #T_f07a3_row1_col2, #T_f07a3_row2_col0, #T_f07a3_row2_col1, #T_f07a3_row2_col2, #T_f07a3_row3_col0, #T_f07a3_row3_col1, #T_f07a3_row3_col2 {\n",
              "  border: 1.5px solid black;\n",
              "  color: blue;\n",
              "}\n",
              "</style>\n",
              "<table id=\"T_f07a3_\" class=\"dataframe\">\n",
              "  <thead>\n",
              "    <tr>\n",
              "      <th class=\"blank level0\" >&nbsp;</th>\n",
              "      <th class=\"col_heading level0 col0\" >LSTM</th>\n",
              "      <th class=\"col_heading level0 col1\" >RNN</th>\n",
              "      <th class=\"col_heading level0 col2\" >BILSTM</th>\n",
              "    </tr>\n",
              "  </thead>\n",
              "  <tbody>\n",
              "    <tr>\n",
              "      <th id=\"T_f07a3_level0_row0\" class=\"row_heading level0 row0\" >Loss</th>\n",
              "      <td id=\"T_f07a3_row0_col0\" class=\"data row0 col0\" >0.629476</td>\n",
              "      <td id=\"T_f07a3_row0_col1\" class=\"data row0 col1\" >0.532648</td>\n",
              "      <td id=\"T_f07a3_row0_col2\" class=\"data row0 col2\" >0.631059</td>\n",
              "    </tr>\n",
              "    <tr>\n",
              "      <th id=\"T_f07a3_level0_row1\" class=\"row_heading level0 row1\" >Accuracy</th>\n",
              "      <td id=\"T_f07a3_row1_col0\" class=\"data row1 col0\" >0.627443</td>\n",
              "      <td id=\"T_f07a3_row1_col1\" class=\"data row1 col1\" >0.761974</td>\n",
              "      <td id=\"T_f07a3_row1_col2\" class=\"data row1 col2\" >0.624484</td>\n",
              "    </tr>\n",
              "    <tr>\n",
              "      <th id=\"T_f07a3_level0_row2\" class=\"row_heading level0 row2\" >Validation Loss</th>\n",
              "      <td id=\"T_f07a3_row2_col0\" class=\"data row2 col0\" >0.632256</td>\n",
              "      <td id=\"T_f07a3_row2_col1\" class=\"data row2 col1\" >0.530013</td>\n",
              "      <td id=\"T_f07a3_row2_col2\" class=\"data row2 col2\" >0.628916</td>\n",
              "    </tr>\n",
              "    <tr>\n",
              "      <th id=\"T_f07a3_level0_row3\" class=\"row_heading level0 row3\" >Validation Accuracy</th>\n",
              "      <td id=\"T_f07a3_row3_col0\" class=\"data row3 col0\" >0.635897</td>\n",
              "      <td id=\"T_f07a3_row3_col1\" class=\"data row3 col1\" >0.762883</td>\n",
              "      <td id=\"T_f07a3_row3_col2\" class=\"data row3 col2\" >0.624980</td>\n",
              "    </tr>\n",
              "  </tbody>\n",
              "</table>\n"
            ]
          },
          "metadata": {},
          "execution_count": 39
        }
      ],
      "source": [
        "# You would have to run these for more epochs and more data and then create a table for results.\n",
        "from IPython.display import display \n",
        "print('***********************************************************************')\n",
        "print('***************** Comparison of different models **********************\\n\\n')\n",
        "\n",
        "all_rows = [[history_lstm1['loss'][9],\n",
        "             history_rnn1['loss'][9],\n",
        "             history_bidirect1['loss'][9]], \n",
        "            [history_lstm1['accuracy'][9],\n",
        "            history_rnn1['accuracy'][9],\n",
        "            history_bidirect1['accuracy'][9]],\n",
        "           [history_lstm1['val_loss'][9],\n",
        "            history_rnn1['val_loss'][9],\n",
        "            history_bidirect1['val_loss'][9]], \n",
        "            [history_lstm1['val_accuracy'][9],\n",
        "            history_rnn1['val_accuracy'][9],\n",
        "            history_bidirect1['val_accuracy'][9]]]\n",
        "\n",
        "df = pd.DataFrame(all_rows, columns=['LSTM', 'RNN', 'BILSTM'])\n",
        "df.style.background_gradient(cmap ='viridis').set_properties(**{'font-size': '20px'})\n",
        "df.index = ['Loss', 'Accuracy', 'Validation Loss', 'Validation Accuracy']\n",
        "df.style.set_properties(**{'border': '1.5px solid black','color': 'blue'}) "
      ]
    },
    {
      "cell_type": "code",
      "execution_count": 39,
      "metadata": {
        "id": "vStW8I2O6QJu"
      },
      "outputs": [],
      "source": []
    },
    {
      "cell_type": "markdown",
      "metadata": {
        "id": "AD9xJUN66QJv"
      },
      "source": [
        "## 7. Intrepret your solution based on the results"
      ]
    },
    {
      "cell_type": "markdown",
      "metadata": {
        "id": "FOVUj-xUE1pF"
      },
      "source": []
    },
    {
      "cell_type": "markdown",
      "metadata": {
        "id": "hIZ-VorNalQj"
      },
      "source": [
        "Comparing all the 3 models, \n",
        "\n",
        "    RNN takes less computation time compared to LSTM and Bidirectional LSTM\n",
        "    \n",
        "    Both Accuracy and Validation Accuracy of the Simple RNN model is higher \n",
        "    \n",
        "    Compared to LSTM and Bidirectional LSTM, LSTM's accuracy is higher and loss is lesser than Bidirectional LSTM\n",
        "    \n",
        "    Out of the all three models, Simple RNN with 2 layers outperforms the other 2 models and it is the best model"
      ]
    },
    {
      "cell_type": "code",
      "execution_count": 39,
      "metadata": {
        "id": "pHSm5U1ialQj"
      },
      "outputs": [],
      "source": []
    }
  ],
  "metadata": {
    "colab": {
      "provenance": [],
      "include_colab_link": true
    },
    "kernelspec": {
      "display_name": "Python 3 (ipykernel)",
      "language": "python",
      "name": "python3"
    },
    "language_info": {
      "codemirror_mode": {
        "name": "ipython",
        "version": 3
      },
      "file_extension": ".py",
      "mimetype": "text/x-python",
      "name": "python",
      "nbconvert_exporter": "python",
      "pygments_lexer": "ipython3",
      "version": "3.9.12"
    }
  },
  "nbformat": 4,
  "nbformat_minor": 0
}