{
  "cells": [
    {
      "cell_type": "markdown",
      "metadata": {
        "id": "view-in-github",
        "colab_type": "text"
      },
      "source": [
        "<a href=\"https://colab.research.google.com/github/Sivasurya-J/Sivasurya-J/blob/main/NLP_FakeNews_Detection.ipynb\" target=\"_parent\"><img src=\"https://colab.research.google.com/assets/colab-badge.svg\" alt=\"Open In Colab\"/></a>"
      ]
    },
    {
      "cell_type": "markdown",
      "metadata": {
        "id": "UAnZ8Vo1PJWX"
      },
      "source": [
        "# Natural Language Processing - CT3 Project"
      ]
    },
    {
      "cell_type": "markdown",
      "metadata": {
        "id": "fspOxGav6QI8"
      },
      "source": [
        "## Fake news identification"
      ]
    },
    {
      "cell_type": "markdown",
      "metadata": {
        "id": "xn8TaN0B6QJL"
      },
      "source": [
        "### About the data set \n",
        "\n",
        "A full  dataset with the following attributes:\n",
        "\n",
        "\n",
        "####  data:\n",
        "**id:**  unique id for a news article<br>\n",
        "**title:** the title of a news article <br> \n",
        "**author:**  author of the news article<br>\n",
        "**text:** the text of the article; could be incomplete<br>\n",
        "\n",
        "\n",
        "**label** - (Output variable) a label that marks the article as potentially unreliable <br>\n",
        "1: unreliable <br>\n",
        "0: reliable\n",
        "\n",
        "\n",
        "Note: Remove the unneccssary data like description"
      ]
    },
    {
      "cell_type": "markdown",
      "metadata": {
        "id": "j0VrvGlM6QJQ"
      },
      "source": [
        "# Table of Content\n",
        "\n",
        "1. Data Preprocessing \n",
        "2. Feature extraction \n",
        "3. Design a LSTM Model \n",
        "4. Test the Model - own data \n",
        "5. Build the following models <br>\n",
        "   Design Bideirectional LSTM <br>\n",
        "   Design RNN (2 Layers) \n",
        "6. Compare the Results of all above models \n",
        "7. Intrepret your solution based on the results \n"
      ]
    },
    {
      "cell_type": "markdown",
      "metadata": {
        "id": "9jELyV6v6QJS"
      },
      "source": [
        "<a id=\"logreg\"> </a>\n",
        "## 1. Data Pre-Processing"
      ]
    },
    {
      "cell_type": "markdown",
      "metadata": {
        "id": "xdFajtIq6QJT"
      },
      "source": [
        "**Import the required libraries**"
      ]
    },
    {
      "cell_type": "code",
      "source": [
        "from google.colab import drive\n",
        "drive.mount('/content/drive/')"
      ],
      "metadata": {
        "colab": {
          "base_uri": "https://localhost:8080/"
        },
        "id": "YgDdADyPaoiz",
        "outputId": "746a40f8-af5f-4216-bded-652a3f62d993"
      },
      "execution_count": null,
      "outputs": [
        {
          "output_type": "stream",
          "name": "stdout",
          "text": [
            "Drive already mounted at /content/drive/; to attempt to forcibly remount, call drive.mount(\"/content/drive/\", force_remount=True).\n"
          ]
        }
      ]
    },
    {
      "cell_type": "code",
      "execution_count": null,
      "metadata": {
        "id": "JCoL7ClW6QJU"
      },
      "outputs": [],
      "source": [
        "import pandas as pd\n",
        "import numpy as np\n",
        "import matplotlib.pyplot as plt\n",
        "import re\n",
        "import nltk\n",
        "import tensorflow as tf\n",
        "import keras\n",
        "from keras.layers import *\n",
        "from keras.models import *\n",
        "\n",
        "from sklearn.feature_extraction.text import CountVectorizer\n",
        "from sklearn.model_selection import train_test_split\n",
        "from keras.models import Sequential\n",
        "from keras.layers.core import Dense, Dropout, Activation\n",
        "from sklearn.metrics import classification_report, confusion_matrix, accuracy_score, roc_auc_score"
      ]
    },
    {
      "cell_type": "markdown",
      "metadata": {
        "id": "MYJsWvjm6QJV"
      },
      "source": [
        "#### Load the csv file"
      ]
    },
    {
      "cell_type": "code",
      "execution_count": null,
      "metadata": {
        "id": "OPT6cH9e6QJW",
        "colab": {
          "base_uri": "https://localhost:8080/",
          "height": 223
        },
        "outputId": "45d4dc43-8d41-43ef-c12d-0550dde53681"
      },
      "outputs": [
        {
          "output_type": "stream",
          "name": "stdout",
          "text": [
            "(20800, 5)\n"
          ]
        },
        {
          "output_type": "execute_result",
          "data": {
            "text/plain": [
              "   id                                              title              author  \\\n",
              "0   0  House Dem Aide: We Didn’t Even See Comey’s Let...       Darrell Lucus   \n",
              "1   1  FLYNN: Hillary Clinton, Big Woman on Campus - ...     Daniel J. Flynn   \n",
              "2   2                  Why the Truth Might Get You Fired  Consortiumnews.com   \n",
              "3   3  15 Civilians Killed In Single US Airstrike Hav...     Jessica Purkiss   \n",
              "4   4  Iranian woman jailed for fictional unpublished...      Howard Portnoy   \n",
              "\n",
              "                                                text  label  \n",
              "0  House Dem Aide: We Didn’t Even See Comey’s Let...      1  \n",
              "1  Ever get the feeling your life circles the rou...      0  \n",
              "2  Why the Truth Might Get You Fired October 29, ...      1  \n",
              "3  Videos 15 Civilians Killed In Single US Airstr...      1  \n",
              "4  Print \\nAn Iranian woman has been sentenced to...      1  "
            ],
            "text/html": [
              "\n",
              "  <div id=\"df-b0f8a2d2-7609-4086-9260-d752aaf88886\">\n",
              "    <div class=\"colab-df-container\">\n",
              "      <div>\n",
              "<style scoped>\n",
              "    .dataframe tbody tr th:only-of-type {\n",
              "        vertical-align: middle;\n",
              "    }\n",
              "\n",
              "    .dataframe tbody tr th {\n",
              "        vertical-align: top;\n",
              "    }\n",
              "\n",
              "    .dataframe thead th {\n",
              "        text-align: right;\n",
              "    }\n",
              "</style>\n",
              "<table border=\"1\" class=\"dataframe\">\n",
              "  <thead>\n",
              "    <tr style=\"text-align: right;\">\n",
              "      <th></th>\n",
              "      <th>id</th>\n",
              "      <th>title</th>\n",
              "      <th>author</th>\n",
              "      <th>text</th>\n",
              "      <th>label</th>\n",
              "    </tr>\n",
              "  </thead>\n",
              "  <tbody>\n",
              "    <tr>\n",
              "      <th>0</th>\n",
              "      <td>0</td>\n",
              "      <td>House Dem Aide: We Didn’t Even See Comey’s Let...</td>\n",
              "      <td>Darrell Lucus</td>\n",
              "      <td>House Dem Aide: We Didn’t Even See Comey’s Let...</td>\n",
              "      <td>1</td>\n",
              "    </tr>\n",
              "    <tr>\n",
              "      <th>1</th>\n",
              "      <td>1</td>\n",
              "      <td>FLYNN: Hillary Clinton, Big Woman on Campus - ...</td>\n",
              "      <td>Daniel J. Flynn</td>\n",
              "      <td>Ever get the feeling your life circles the rou...</td>\n",
              "      <td>0</td>\n",
              "    </tr>\n",
              "    <tr>\n",
              "      <th>2</th>\n",
              "      <td>2</td>\n",
              "      <td>Why the Truth Might Get You Fired</td>\n",
              "      <td>Consortiumnews.com</td>\n",
              "      <td>Why the Truth Might Get You Fired October 29, ...</td>\n",
              "      <td>1</td>\n",
              "    </tr>\n",
              "    <tr>\n",
              "      <th>3</th>\n",
              "      <td>3</td>\n",
              "      <td>15 Civilians Killed In Single US Airstrike Hav...</td>\n",
              "      <td>Jessica Purkiss</td>\n",
              "      <td>Videos 15 Civilians Killed In Single US Airstr...</td>\n",
              "      <td>1</td>\n",
              "    </tr>\n",
              "    <tr>\n",
              "      <th>4</th>\n",
              "      <td>4</td>\n",
              "      <td>Iranian woman jailed for fictional unpublished...</td>\n",
              "      <td>Howard Portnoy</td>\n",
              "      <td>Print \\nAn Iranian woman has been sentenced to...</td>\n",
              "      <td>1</td>\n",
              "    </tr>\n",
              "  </tbody>\n",
              "</table>\n",
              "</div>\n",
              "      <button class=\"colab-df-convert\" onclick=\"convertToInteractive('df-b0f8a2d2-7609-4086-9260-d752aaf88886')\"\n",
              "              title=\"Convert this dataframe to an interactive table.\"\n",
              "              style=\"display:none;\">\n",
              "        \n",
              "  <svg xmlns=\"http://www.w3.org/2000/svg\" height=\"24px\"viewBox=\"0 0 24 24\"\n",
              "       width=\"24px\">\n",
              "    <path d=\"M0 0h24v24H0V0z\" fill=\"none\"/>\n",
              "    <path d=\"M18.56 5.44l.94 2.06.94-2.06 2.06-.94-2.06-.94-.94-2.06-.94 2.06-2.06.94zm-11 1L8.5 8.5l.94-2.06 2.06-.94-2.06-.94L8.5 2.5l-.94 2.06-2.06.94zm10 10l.94 2.06.94-2.06 2.06-.94-2.06-.94-.94-2.06-.94 2.06-2.06.94z\"/><path d=\"M17.41 7.96l-1.37-1.37c-.4-.4-.92-.59-1.43-.59-.52 0-1.04.2-1.43.59L10.3 9.45l-7.72 7.72c-.78.78-.78 2.05 0 2.83L4 21.41c.39.39.9.59 1.41.59.51 0 1.02-.2 1.41-.59l7.78-7.78 2.81-2.81c.8-.78.8-2.07 0-2.86zM5.41 20L4 18.59l7.72-7.72 1.47 1.35L5.41 20z\"/>\n",
              "  </svg>\n",
              "      </button>\n",
              "      \n",
              "  <style>\n",
              "    .colab-df-container {\n",
              "      display:flex;\n",
              "      flex-wrap:wrap;\n",
              "      gap: 12px;\n",
              "    }\n",
              "\n",
              "    .colab-df-convert {\n",
              "      background-color: #E8F0FE;\n",
              "      border: none;\n",
              "      border-radius: 50%;\n",
              "      cursor: pointer;\n",
              "      display: none;\n",
              "      fill: #1967D2;\n",
              "      height: 32px;\n",
              "      padding: 0 0 0 0;\n",
              "      width: 32px;\n",
              "    }\n",
              "\n",
              "    .colab-df-convert:hover {\n",
              "      background-color: #E2EBFA;\n",
              "      box-shadow: 0px 1px 2px rgba(60, 64, 67, 0.3), 0px 1px 3px 1px rgba(60, 64, 67, 0.15);\n",
              "      fill: #174EA6;\n",
              "    }\n",
              "\n",
              "    [theme=dark] .colab-df-convert {\n",
              "      background-color: #3B4455;\n",
              "      fill: #D2E3FC;\n",
              "    }\n",
              "\n",
              "    [theme=dark] .colab-df-convert:hover {\n",
              "      background-color: #434B5C;\n",
              "      box-shadow: 0px 1px 3px 1px rgba(0, 0, 0, 0.15);\n",
              "      filter: drop-shadow(0px 1px 2px rgba(0, 0, 0, 0.3));\n",
              "      fill: #FFFFFF;\n",
              "    }\n",
              "  </style>\n",
              "\n",
              "      <script>\n",
              "        const buttonEl =\n",
              "          document.querySelector('#df-b0f8a2d2-7609-4086-9260-d752aaf88886 button.colab-df-convert');\n",
              "        buttonEl.style.display =\n",
              "          google.colab.kernel.accessAllowed ? 'block' : 'none';\n",
              "\n",
              "        async function convertToInteractive(key) {\n",
              "          const element = document.querySelector('#df-b0f8a2d2-7609-4086-9260-d752aaf88886');\n",
              "          const dataTable =\n",
              "            await google.colab.kernel.invokeFunction('convertToInteractive',\n",
              "                                                     [key], {});\n",
              "          if (!dataTable) return;\n",
              "\n",
              "          const docLinkHtml = 'Like what you see? Visit the ' +\n",
              "            '<a target=\"_blank\" href=https://colab.research.google.com/notebooks/data_table.ipynb>data table notebook</a>'\n",
              "            + ' to learn more about interactive tables.';\n",
              "          element.innerHTML = '';\n",
              "          dataTable['output_type'] = 'display_data';\n",
              "          await google.colab.output.renderOutput(dataTable, element);\n",
              "          const docLink = document.createElement('div');\n",
              "          docLink.innerHTML = docLinkHtml;\n",
              "          element.appendChild(docLink);\n",
              "        }\n",
              "      </script>\n",
              "    </div>\n",
              "  </div>\n",
              "  "
            ]
          },
          "metadata": {},
          "execution_count": 42
        }
      ],
      "source": [
        "train = pd.read_csv(\"/content/drive/My Drive/train.csv\")\n",
        "# test = pd.read_csv(\"test.csv/test.csv\")\n",
        "\n",
        "# print(train.shape, test.shape)\n",
        "print(train.shape)\n",
        "train.head(5)"
      ]
    },
    {
      "cell_type": "markdown",
      "metadata": {
        "id": "MjGUYwLN6QJX"
      },
      "source": [
        "<table align=\"left\">\n",
        "    <tr>\n",
        "        <td>\n",
        "            <div align=\"left\", style=\"font-size:120%\">\n",
        "                <font color=\"#21618C\">\n",
        "                    <b>Prepare the data </b>\n",
        "                </font>\n",
        "            </div>\n",
        "        </td>\n",
        "    </tr>\n",
        "</table>"
      ]
    },
    {
      "cell_type": "code",
      "execution_count": null,
      "metadata": {
        "id": "lk6-pJ0J6QJZ",
        "colab": {
          "base_uri": "https://localhost:8080/"
        },
        "outputId": "2140736c-3f87-4ca9-e730-38bc270b6f07"
      },
      "outputs": [
        {
          "output_type": "execute_result",
          "data": {
            "text/plain": [
              "id           0\n",
              "title      558\n",
              "author    1957\n",
              "text        39\n",
              "label        0\n",
              "dtype: int64"
            ]
          },
          "metadata": {},
          "execution_count": 43
        }
      ],
      "source": [
        "train.isnull().sum()"
      ]
    },
    {
      "cell_type": "code",
      "execution_count": null,
      "metadata": {
        "colab": {
          "base_uri": "https://localhost:8080/"
        },
        "id": "m6Mrtcz5alQW",
        "outputId": "afc7bd9f-8c74-4090-d565-75b27092cc62"
      },
      "outputs": [
        {
          "output_type": "execute_result",
          "data": {
            "text/plain": [
              "id        39\n",
              "title     39\n",
              "author     0\n",
              "text       0\n",
              "label     39\n",
              "dtype: int64"
            ]
          },
          "metadata": {},
          "execution_count": 44
        }
      ],
      "source": [
        "train[train['author'].isna() & train['text'].isna()].count()"
      ]
    },
    {
      "cell_type": "code",
      "execution_count": null,
      "metadata": {
        "id": "--MGJN7ialQW"
      },
      "outputs": [],
      "source": [
        "nan_idx = train[(train['author'].isna()) & (train['text'].isna())].index\n",
        "train.drop(nan_idx, inplace=True)"
      ]
    },
    {
      "cell_type": "code",
      "execution_count": null,
      "metadata": {
        "colab": {
          "base_uri": "https://localhost:8080/"
        },
        "id": "ChQtqnZ8alQW",
        "outputId": "66af33e0-e4d5-4ed0-8873-6bc7a95970a5"
      },
      "outputs": [
        {
          "output_type": "stream",
          "name": "stdout",
          "text": [
            "id           0\n",
            "title      558\n",
            "author    1918\n",
            "text         0\n",
            "label        0\n",
            "dtype: int64\n",
            "(20761, 5)\n"
          ]
        }
      ],
      "source": [
        "print(train.isnull().sum())\n",
        "print(train.shape)"
      ]
    },
    {
      "cell_type": "code",
      "execution_count": null,
      "metadata": {
        "id": "jNee855salQW"
      },
      "outputs": [],
      "source": [
        "train = train.fillna(' ')"
      ]
    },
    {
      "cell_type": "code",
      "execution_count": null,
      "metadata": {
        "colab": {
          "base_uri": "https://localhost:8080/"
        },
        "id": "Ao_tTU36alQX",
        "outputId": "31af771f-09c7-4f96-844b-290a83126f31"
      },
      "outputs": [
        {
          "output_type": "execute_result",
          "data": {
            "text/plain": [
              "id        0\n",
              "title     0\n",
              "author    0\n",
              "text      0\n",
              "label     0\n",
              "dtype: int64"
            ]
          },
          "metadata": {},
          "execution_count": 48
        }
      ],
      "source": [
        "train.isna().sum()"
      ]
    },
    {
      "cell_type": "code",
      "execution_count": null,
      "metadata": {
        "colab": {
          "base_uri": "https://localhost:8080/"
        },
        "id": "3o08OGZCalQX",
        "outputId": "ec11fdc9-bb1f-41af-87b5-c2dc60181da5"
      },
      "outputs": [
        {
          "output_type": "stream",
          "name": "stdout",
          "text": [
            "<class 'pandas.core.frame.DataFrame'>\n",
            "Int64Index: 20761 entries, 0 to 20799\n",
            "Data columns (total 5 columns):\n",
            " #   Column  Non-Null Count  Dtype \n",
            "---  ------  --------------  ----- \n",
            " 0   id      20761 non-null  int64 \n",
            " 1   title   20761 non-null  object\n",
            " 2   author  20761 non-null  object\n",
            " 3   text    20761 non-null  object\n",
            " 4   label   20761 non-null  int64 \n",
            "dtypes: int64(2), object(3)\n",
            "memory usage: 973.2+ KB\n"
          ]
        }
      ],
      "source": [
        "train.info()"
      ]
    },
    {
      "cell_type": "markdown",
      "metadata": {
        "id": "ecCM_rlo6QJb"
      },
      "source": [
        "<table align=\"left\">\n",
        "    <tr>\n",
        "        <td>\n",
        "            <div align=\"left\", style=\"font-size:240%\">\n",
        "                <font color=\"#21618C\">\n",
        "                    <b>Perform an Text preprocessing tasks whichever is appropriate </b>\n",
        "                </font>\n",
        "            </div>\n",
        "        </td>\n",
        "    </tr>\n",
        "</table>"
      ]
    },
    {
      "cell_type": "code",
      "execution_count": null,
      "metadata": {
        "id": "HFuY-n1KalQY"
      },
      "outputs": [],
      "source": [
        "def cleantext(text):\n",
        "    cleantext=re.sub('[^A-Za-z0-9]+', ' ',text)\n",
        "    low = cleantext.lower()\n",
        "    txt = low.strip()\n",
        "    return txt"
      ]
    },
    {
      "cell_type": "code",
      "execution_count": null,
      "metadata": {
        "id": "7PFytrsYalQZ"
      },
      "outputs": [],
      "source": [
        "train[\"title\"] = train[\"title\"].apply(lambda x: cleantext(x))\n",
        "train[\"author\"] = train[\"author\"].apply(lambda x: cleantext(x))\n",
        "train[\"text\"] = train[\"text\"].apply(lambda x: cleantext(x))"
      ]
    },
    {
      "cell_type": "code",
      "execution_count": null,
      "metadata": {
        "colab": {
          "base_uri": "https://localhost:8080/",
          "height": 206
        },
        "id": "059HtVf7alQa",
        "outputId": "38721a03-9328-40cc-ac44-c8b36c8273fe"
      },
      "outputs": [
        {
          "output_type": "execute_result",
          "data": {
            "text/plain": [
              "   id                                              title              author  \\\n",
              "0   0  house dem aide we didn t even see comey s lett...       darrell lucus   \n",
              "1   1  flynn hillary clinton big woman on campus brei...      daniel j flynn   \n",
              "2   2                  why the truth might get you fired  consortiumnews com   \n",
              "3   3  15 civilians killed in single us airstrike hav...     jessica purkiss   \n",
              "4   4  iranian woman jailed for fictional unpublished...      howard portnoy   \n",
              "\n",
              "                                                text  label  \\\n",
              "0  house dem aide we didn t even see comey s lett...      1   \n",
              "1  ever get the feeling your life circles the rou...      0   \n",
              "2  why the truth might get you fired october 29 2...      1   \n",
              "3  videos 15 civilians killed in single us airstr...      1   \n",
              "4  print an iranian woman has been sentenced to s...      1   \n",
              "\n",
              "                                             article  \n",
              "0  house dem aide we didn t even see comey s lett...  \n",
              "1  flynn hillary clinton big woman on campus brei...  \n",
              "2  why the truth might get you firedwhy the truth...  \n",
              "3  15 civilians killed in single us airstrike hav...  \n",
              "4  iranian woman jailed for fictional unpublished...  "
            ],
            "text/html": [
              "\n",
              "  <div id=\"df-13b79ce3-6751-4f5e-8ce1-7fe8bd575ea3\">\n",
              "    <div class=\"colab-df-container\">\n",
              "      <div>\n",
              "<style scoped>\n",
              "    .dataframe tbody tr th:only-of-type {\n",
              "        vertical-align: middle;\n",
              "    }\n",
              "\n",
              "    .dataframe tbody tr th {\n",
              "        vertical-align: top;\n",
              "    }\n",
              "\n",
              "    .dataframe thead th {\n",
              "        text-align: right;\n",
              "    }\n",
              "</style>\n",
              "<table border=\"1\" class=\"dataframe\">\n",
              "  <thead>\n",
              "    <tr style=\"text-align: right;\">\n",
              "      <th></th>\n",
              "      <th>id</th>\n",
              "      <th>title</th>\n",
              "      <th>author</th>\n",
              "      <th>text</th>\n",
              "      <th>label</th>\n",
              "      <th>article</th>\n",
              "    </tr>\n",
              "  </thead>\n",
              "  <tbody>\n",
              "    <tr>\n",
              "      <th>0</th>\n",
              "      <td>0</td>\n",
              "      <td>house dem aide we didn t even see comey s lett...</td>\n",
              "      <td>darrell lucus</td>\n",
              "      <td>house dem aide we didn t even see comey s lett...</td>\n",
              "      <td>1</td>\n",
              "      <td>house dem aide we didn t even see comey s lett...</td>\n",
              "    </tr>\n",
              "    <tr>\n",
              "      <th>1</th>\n",
              "      <td>1</td>\n",
              "      <td>flynn hillary clinton big woman on campus brei...</td>\n",
              "      <td>daniel j flynn</td>\n",
              "      <td>ever get the feeling your life circles the rou...</td>\n",
              "      <td>0</td>\n",
              "      <td>flynn hillary clinton big woman on campus brei...</td>\n",
              "    </tr>\n",
              "    <tr>\n",
              "      <th>2</th>\n",
              "      <td>2</td>\n",
              "      <td>why the truth might get you fired</td>\n",
              "      <td>consortiumnews com</td>\n",
              "      <td>why the truth might get you fired october 29 2...</td>\n",
              "      <td>1</td>\n",
              "      <td>why the truth might get you firedwhy the truth...</td>\n",
              "    </tr>\n",
              "    <tr>\n",
              "      <th>3</th>\n",
              "      <td>3</td>\n",
              "      <td>15 civilians killed in single us airstrike hav...</td>\n",
              "      <td>jessica purkiss</td>\n",
              "      <td>videos 15 civilians killed in single us airstr...</td>\n",
              "      <td>1</td>\n",
              "      <td>15 civilians killed in single us airstrike hav...</td>\n",
              "    </tr>\n",
              "    <tr>\n",
              "      <th>4</th>\n",
              "      <td>4</td>\n",
              "      <td>iranian woman jailed for fictional unpublished...</td>\n",
              "      <td>howard portnoy</td>\n",
              "      <td>print an iranian woman has been sentenced to s...</td>\n",
              "      <td>1</td>\n",
              "      <td>iranian woman jailed for fictional unpublished...</td>\n",
              "    </tr>\n",
              "  </tbody>\n",
              "</table>\n",
              "</div>\n",
              "      <button class=\"colab-df-convert\" onclick=\"convertToInteractive('df-13b79ce3-6751-4f5e-8ce1-7fe8bd575ea3')\"\n",
              "              title=\"Convert this dataframe to an interactive table.\"\n",
              "              style=\"display:none;\">\n",
              "        \n",
              "  <svg xmlns=\"http://www.w3.org/2000/svg\" height=\"24px\"viewBox=\"0 0 24 24\"\n",
              "       width=\"24px\">\n",
              "    <path d=\"M0 0h24v24H0V0z\" fill=\"none\"/>\n",
              "    <path d=\"M18.56 5.44l.94 2.06.94-2.06 2.06-.94-2.06-.94-.94-2.06-.94 2.06-2.06.94zm-11 1L8.5 8.5l.94-2.06 2.06-.94-2.06-.94L8.5 2.5l-.94 2.06-2.06.94zm10 10l.94 2.06.94-2.06 2.06-.94-2.06-.94-.94-2.06-.94 2.06-2.06.94z\"/><path d=\"M17.41 7.96l-1.37-1.37c-.4-.4-.92-.59-1.43-.59-.52 0-1.04.2-1.43.59L10.3 9.45l-7.72 7.72c-.78.78-.78 2.05 0 2.83L4 21.41c.39.39.9.59 1.41.59.51 0 1.02-.2 1.41-.59l7.78-7.78 2.81-2.81c.8-.78.8-2.07 0-2.86zM5.41 20L4 18.59l7.72-7.72 1.47 1.35L5.41 20z\"/>\n",
              "  </svg>\n",
              "      </button>\n",
              "      \n",
              "  <style>\n",
              "    .colab-df-container {\n",
              "      display:flex;\n",
              "      flex-wrap:wrap;\n",
              "      gap: 12px;\n",
              "    }\n",
              "\n",
              "    .colab-df-convert {\n",
              "      background-color: #E8F0FE;\n",
              "      border: none;\n",
              "      border-radius: 50%;\n",
              "      cursor: pointer;\n",
              "      display: none;\n",
              "      fill: #1967D2;\n",
              "      height: 32px;\n",
              "      padding: 0 0 0 0;\n",
              "      width: 32px;\n",
              "    }\n",
              "\n",
              "    .colab-df-convert:hover {\n",
              "      background-color: #E2EBFA;\n",
              "      box-shadow: 0px 1px 2px rgba(60, 64, 67, 0.3), 0px 1px 3px 1px rgba(60, 64, 67, 0.15);\n",
              "      fill: #174EA6;\n",
              "    }\n",
              "\n",
              "    [theme=dark] .colab-df-convert {\n",
              "      background-color: #3B4455;\n",
              "      fill: #D2E3FC;\n",
              "    }\n",
              "\n",
              "    [theme=dark] .colab-df-convert:hover {\n",
              "      background-color: #434B5C;\n",
              "      box-shadow: 0px 1px 3px 1px rgba(0, 0, 0, 0.15);\n",
              "      filter: drop-shadow(0px 1px 2px rgba(0, 0, 0, 0.3));\n",
              "      fill: #FFFFFF;\n",
              "    }\n",
              "  </style>\n",
              "\n",
              "      <script>\n",
              "        const buttonEl =\n",
              "          document.querySelector('#df-13b79ce3-6751-4f5e-8ce1-7fe8bd575ea3 button.colab-df-convert');\n",
              "        buttonEl.style.display =\n",
              "          google.colab.kernel.accessAllowed ? 'block' : 'none';\n",
              "\n",
              "        async function convertToInteractive(key) {\n",
              "          const element = document.querySelector('#df-13b79ce3-6751-4f5e-8ce1-7fe8bd575ea3');\n",
              "          const dataTable =\n",
              "            await google.colab.kernel.invokeFunction('convertToInteractive',\n",
              "                                                     [key], {});\n",
              "          if (!dataTable) return;\n",
              "\n",
              "          const docLinkHtml = 'Like what you see? Visit the ' +\n",
              "            '<a target=\"_blank\" href=https://colab.research.google.com/notebooks/data_table.ipynb>data table notebook</a>'\n",
              "            + ' to learn more about interactive tables.';\n",
              "          element.innerHTML = '';\n",
              "          dataTable['output_type'] = 'display_data';\n",
              "          await google.colab.output.renderOutput(dataTable, element);\n",
              "          const docLink = document.createElement('div');\n",
              "          docLink.innerHTML = docLinkHtml;\n",
              "          element.appendChild(docLink);\n",
              "        }\n",
              "      </script>\n",
              "    </div>\n",
              "  </div>\n",
              "  "
            ]
          },
          "metadata": {},
          "execution_count": 52
        }
      ],
      "source": [
        "train = train.assign(article = train['title'] + train['text'] + train['author'])\n",
        "train.head()"
      ]
    },
    {
      "cell_type": "markdown",
      "metadata": {
        "id": "B9LXg5_L6QJe"
      },
      "source": [
        "<table align=\"left\">\n",
        "    <tr>\n",
        "        <td>\n",
        "            <div align=\"left\", style=\"font-size:120%\">\n",
        "                <font color=\"#21618C\">\n",
        "                    <b>Separate the dependent and the independent variables. </b>\n",
        "                </font>\n",
        "            </div>\n",
        "        </td>\n",
        "    </tr>\n",
        "</table>"
      ]
    },
    {
      "cell_type": "code",
      "execution_count": null,
      "metadata": {
        "id": "MOwXhzU16QJh"
      },
      "outputs": [],
      "source": [
        "# Since we are going to split the dataset for train and test, will do this step later\n",
        "\n",
        "train_x = train['article']\n",
        "train_y = train['label']"
      ]
    },
    {
      "cell_type": "markdown",
      "metadata": {
        "id": "DfktbbvD6QJi"
      },
      "source": [
        "<table align=\"left\">\n",
        "    <tr>\n",
        "        <td>\n",
        "            <div align=\"left\", style=\"font-size:120%\">\n",
        "                <font color=\"#21618C\">\n",
        "                    <b>Print the first ten records of  data.</b>\n",
        "                </font>\n",
        "            </div>\n",
        "        </td>\n",
        "    </tr>\n",
        "</table>"
      ]
    },
    {
      "cell_type": "code",
      "execution_count": null,
      "metadata": {
        "id": "hBucBg3K6QJj",
        "colab": {
          "base_uri": "https://localhost:8080/"
        },
        "outputId": "d623cada-824c-4294-d82d-dafd00f0934c"
      },
      "outputs": [
        {
          "output_type": "execute_result",
          "data": {
            "text/plain": [
              "0    house dem aide we didn t even see comey s lett...\n",
              "1    flynn hillary clinton big woman on campus brei...\n",
              "2    why the truth might get you firedwhy the truth...\n",
              "3    15 civilians killed in single us airstrike hav...\n",
              "4    iranian woman jailed for fictional unpublished...\n",
              "5    jackie mason hollywood would love trump if he ...\n",
              "6    life life of luxury elton john s 6 favorite sh...\n",
              "7    beno t hamon wins french socialist party s pre...\n",
              "8    excerpts from a draft script for donald trump ...\n",
              "9    a back channel plan for ukraine and russia cou...\n",
              "Name: article, dtype: object"
            ]
          },
          "metadata": {},
          "execution_count": 54
        }
      ],
      "source": [
        "train_x.head(10)"
      ]
    },
    {
      "cell_type": "markdown",
      "metadata": {
        "id": "J7C1C_Rc6QJj"
      },
      "source": [
        "<a id=\"logreg\"> </a>\n",
        "## 2. Feature Extraction - Do count vectorizer and pad sequence <br> use maximum features as 2000"
      ]
    },
    {
      "cell_type": "code",
      "execution_count": null,
      "metadata": {
        "colab": {
          "base_uri": "https://localhost:8080/"
        },
        "id": "XyLQILwEalQc",
        "outputId": "88afbf58-df2c-40ff-99a5-98dc6807b2e9"
      },
      "outputs": [
        {
          "output_type": "stream",
          "name": "stdout",
          "text": [
            "(20761, 2000)\n"
          ]
        }
      ],
      "source": [
        "cv = CountVectorizer(max_features=2000)\n",
        "tr = cv.fit_transform(train_x).toarray()\n",
        "print(tr.shape)"
      ]
    },
    {
      "cell_type": "code",
      "execution_count": null,
      "metadata": {
        "colab": {
          "base_uri": "https://localhost:8080/"
        },
        "id": "v4fTmlu2alQc",
        "outputId": "edfc5225-9dbd-4c43-c612-921064152ee8"
      },
      "outputs": [
        {
          "output_type": "execute_result",
          "data": {
            "text/plain": [
              "array([[0, 0, 0, ..., 0, 0, 0],\n",
              "       [0, 0, 0, ..., 0, 0, 0],\n",
              "       [0, 0, 0, ..., 0, 0, 0],\n",
              "       ...,\n",
              "       [1, 1, 0, ..., 0, 0, 0],\n",
              "       [0, 1, 0, ..., 0, 0, 0],\n",
              "       [3, 0, 0, ..., 0, 0, 0]], dtype=int32)"
            ]
          },
          "metadata": {},
          "execution_count": 56
        }
      ],
      "source": [
        "train_x = tf.keras.preprocessing.sequence.pad_sequences(tr, padding='post')\n",
        "train_x"
      ]
    },
    {
      "cell_type": "markdown",
      "metadata": {
        "id": "_tunBXPv_md1"
      },
      "source": [
        "Split the training and testing data"
      ]
    },
    {
      "cell_type": "code",
      "execution_count": null,
      "metadata": {
        "id": "xG7XJlpV_8Al"
      },
      "outputs": [],
      "source": [
        "X_train, X_test, y_train, y_test = train_test_split(train_x, train_y, test_size=0.3, random_state=0)"
      ]
    },
    {
      "cell_type": "markdown",
      "metadata": {
        "collapsed": true,
        "id": "CyIb2Ea_6QJm"
      },
      "source": [
        "<table align=\"left\">\n",
        "    <tr>\n",
        "        <td>\n",
        "            <div align=\"left\", style=\"font-size:120%\">\n",
        "                <font color=\"#21618C\">\n",
        "                    <b>Print the shape of both features and label:<br> \n",
        "                        \n",
        "                \n",
        "</table>"
      ]
    },
    {
      "cell_type": "code",
      "execution_count": null,
      "metadata": {
        "colab": {
          "base_uri": "https://localhost:8080/"
        },
        "id": "q9pVwn59alQd",
        "outputId": "0198d83f-65b5-4356-89f8-4ec103b467c0"
      },
      "outputs": [
        {
          "output_type": "stream",
          "name": "stdout",
          "text": [
            "Train - Features:  (14532, 2000)\n",
            "Train - Labels:  (14532,)\n",
            "------------------------------\n",
            "Test - Features:  (6229, 2000)\n",
            "Test - Labels:  (6229,)\n"
          ]
        }
      ],
      "source": [
        "print(\"Train - Features: \", X_train.shape)\n",
        "print(\"Train - Labels: \", y_train.shape)\n",
        "print(30 * '-')\n",
        "print(\"Test - Features: \", X_test.shape)\n",
        "print(\"Test - Labels: \", y_test.shape)"
      ]
    },
    {
      "cell_type": "markdown",
      "metadata": {
        "id": "5EkW9HhH6QJm"
      },
      "source": [
        "## 3.Design a LSTM Model \n"
      ]
    },
    {
      "cell_type": "code",
      "execution_count": null,
      "metadata": {
        "id": "ep00oBu2alQd"
      },
      "outputs": [],
      "source": [
        "model = Sequential()\n",
        "model.add(Embedding(2000, 20))\n",
        "model.add(LSTM(10))\n",
        "model.add(Dense(1, activation='sigmoid'))"
      ]
    },
    {
      "cell_type": "markdown",
      "metadata": {
        "id": "Ezo3bhUlAknc"
      },
      "source": [
        "print  the model summary"
      ]
    },
    {
      "cell_type": "code",
      "execution_count": null,
      "metadata": {
        "id": "NOjagELH6QJm",
        "colab": {
          "base_uri": "https://localhost:8080/"
        },
        "outputId": "77174804-73f4-472f-b539-dd2d43d93841"
      },
      "outputs": [
        {
          "output_type": "stream",
          "name": "stdout",
          "text": [
            "Model: \"sequential_3\"\n",
            "_________________________________________________________________\n",
            " Layer (type)                Output Shape              Param #   \n",
            "=================================================================\n",
            " embedding_3 (Embedding)     (None, None, 20)          40000     \n",
            "                                                                 \n",
            " lstm_2 (LSTM)               (None, 10)                1240      \n",
            "                                                                 \n",
            " dense_3 (Dense)             (None, 1)                 11        \n",
            "                                                                 \n",
            "=================================================================\n",
            "Total params: 41,251\n",
            "Trainable params: 41,251\n",
            "Non-trainable params: 0\n",
            "_________________________________________________________________\n"
          ]
        }
      ],
      "source": [
        "model.summary()"
      ]
    },
    {
      "cell_type": "markdown",
      "metadata": {
        "id": "njsDi5B-ArXt"
      },
      "source": [
        "Train the model"
      ]
    },
    {
      "cell_type": "code",
      "execution_count": null,
      "metadata": {
        "id": "8KhS2sXB6QJn",
        "colab": {
          "base_uri": "https://localhost:8080/"
        },
        "outputId": "38005dc8-eef3-4535-d656-df1774408419"
      },
      "outputs": [
        {
          "output_type": "stream",
          "name": "stdout",
          "text": [
            "Epoch 1/10\n",
            "30/30 [==============================] - 66s 2s/step - loss: 0.6911 - accuracy: 0.5242 - val_loss: 0.6876 - val_accuracy: 0.6030\n",
            "Epoch 2/10\n",
            "30/30 [==============================] - 62s 2s/step - loss: 0.6784 - accuracy: 0.6147 - val_loss: 0.6620 - val_accuracy: 0.6223\n",
            "Epoch 3/10\n",
            "30/30 [==============================] - 64s 2s/step - loss: 0.6465 - accuracy: 0.6259 - val_loss: 0.6351 - val_accuracy: 0.6295\n",
            "Epoch 4/10\n",
            "30/30 [==============================] - 62s 2s/step - loss: 0.6345 - accuracy: 0.6301 - val_loss: 0.6278 - val_accuracy: 0.6279\n",
            "Epoch 5/10\n",
            "30/30 [==============================] - 68s 2s/step - loss: 0.6363 - accuracy: 0.6272 - val_loss: 0.6265 - val_accuracy: 0.6354\n",
            "Epoch 6/10\n",
            "30/30 [==============================] - 63s 2s/step - loss: 0.6344 - accuracy: 0.6293 - val_loss: 0.6270 - val_accuracy: 0.6383\n",
            "Epoch 7/10\n",
            "30/30 [==============================] - 62s 2s/step - loss: 0.6291 - accuracy: 0.6329 - val_loss: 0.6251 - val_accuracy: 0.6317\n",
            "Epoch 8/10\n",
            "30/30 [==============================] - 64s 2s/step - loss: 0.6260 - accuracy: 0.6329 - val_loss: 0.6309 - val_accuracy: 0.6414\n",
            "Epoch 9/10\n",
            "30/30 [==============================] - 62s 2s/step - loss: 0.6256 - accuracy: 0.6371 - val_loss: 0.6361 - val_accuracy: 0.6418\n",
            "Epoch 10/10\n",
            "30/30 [==============================] - 62s 2s/step - loss: 0.6236 - accuracy: 0.6374 - val_loss: 0.6234 - val_accuracy: 0.6316\n"
          ]
        }
      ],
      "source": [
        "model.compile(loss='binary_crossentropy', optimizer='adam', metrics=['accuracy'])\n",
        "\n",
        "history_lstm = model.fit(X_train, y_train, batch_size=500, epochs=10, validation_data=(X_test, y_test))"
      ]
    },
    {
      "cell_type": "markdown",
      "metadata": {
        "id": "VZrZDC2FA4-E"
      },
      "source": [
        "Validate the model"
      ]
    },
    {
      "cell_type": "code",
      "execution_count": null,
      "metadata": {
        "id": "B91B6LepA9eI",
        "colab": {
          "base_uri": "https://localhost:8080/"
        },
        "outputId": "e601efaa-1457-42f0-cba9-47ab4d553998"
      },
      "outputs": [
        {
          "output_type": "stream",
          "name": "stdout",
          "text": [
            "13/13 [==============================] - 7s 552ms/step - loss: 0.6234 - accuracy: 0.6316\n",
            "Test score: 0.6234406232833862\n",
            "Test accuracy: 0.6315620541572571\n"
          ]
        }
      ],
      "source": [
        "score, acc = model.evaluate(X_test, y_test, batch_size=500)\n",
        "print('Test score:', score)\n",
        "print('Test accuracy:', acc)"
      ]
    },
    {
      "cell_type": "code",
      "execution_count": null,
      "metadata": {
        "colab": {
          "base_uri": "https://localhost:8080/"
        },
        "id": "3A6E83o-alQe",
        "outputId": "82eca347-5834-45fc-c668-243023797aa0"
      },
      "outputs": [
        {
          "output_type": "execute_result",
          "data": {
            "text/plain": [
              "<keras.callbacks.History at 0x7ff0c3f19880>"
            ]
          },
          "metadata": {},
          "execution_count": 63
        }
      ],
      "source": [
        "history_lstm"
      ]
    },
    {
      "cell_type": "code",
      "execution_count": null,
      "metadata": {
        "colab": {
          "base_uri": "https://localhost:8080/",
          "height": 282
        },
        "id": "1JBE_OJSalQe",
        "outputId": "c340f9b4-ffae-4fe7-857a-bf0e895ea089"
      },
      "outputs": [
        {
          "output_type": "execute_result",
          "data": {
            "text/plain": [
              "<matplotlib.axes._subplots.AxesSubplot at 0x7ff0b7e6b760>"
            ]
          },
          "metadata": {},
          "execution_count": 64
        },
        {
          "output_type": "display_data",
          "data": {
            "text/plain": [
              "<Figure size 432x288 with 1 Axes>"
            ],
            "image/png": "[encoded data removed]"
          },
          "metadata": {
            "needs_background": "light"
          }
        }
      ],
      "source": [
        "history_lstm1 = pd.DataFrame(history_lstm.history)\n",
        "\n",
        "history_lstm1.plot()"
      ]
    },
    {
      "cell_type": "code",
      "execution_count": null,
      "metadata": {
        "colab": {
          "base_uri": "https://localhost:8080/",
          "height": 363
        },
        "id": "21rHiBHQalQf",
        "outputId": "0fe57a13-6328-4e39-eb93-96850820571e"
      },
      "outputs": [
        {
          "output_type": "execute_result",
          "data": {
            "text/plain": [
              "       loss  accuracy  val_loss  val_accuracy\n",
              "0  0.691109  0.524154  0.687596      0.602986\n",
              "1  0.678410  0.614712  0.662014      0.622251\n",
              "2  0.646469  0.625929  0.635100      0.629475\n",
              "3  0.634457  0.630058  0.627778      0.627870\n",
              "4  0.636330  0.627168  0.626469      0.635415\n",
              "5  0.634353  0.629301  0.626964      0.638305\n",
              "6  0.629055  0.632879  0.625144      0.631723\n",
              "7  0.625961  0.632948  0.630856      0.641355\n",
              "8  0.625637  0.637146  0.636067      0.641837\n",
              "9  0.623613  0.637352  0.623441      0.631562"
            ],
            "text/html": [
              "\n",
              "  <div id=\"df-521ca403-321e-4e39-ab8f-f54ef0bd40dc\">\n",
              "    <div class=\"colab-df-container\">\n",
              "      <div>\n",
              "<style scoped>\n",
              "    .dataframe tbody tr th:only-of-type {\n",
              "        vertical-align: middle;\n",
              "    }\n",
              "\n",
              "    .dataframe tbody tr th {\n",
              "        vertical-align: top;\n",
              "    }\n",
              "\n",
              "    .dataframe thead th {\n",
              "        text-align: right;\n",
              "    }\n",
              "</style>\n",
              "<table border=\"1\" class=\"dataframe\">\n",
              "  <thead>\n",
              "    <tr style=\"text-align: right;\">\n",
              "      <th></th>\n",
              "      <th>loss</th>\n",
              "      <th>accuracy</th>\n",
              "      <th>val_loss</th>\n",
              "      <th>val_accuracy</th>\n",
              "    </tr>\n",
              "  </thead>\n",
              "  <tbody>\n",
              "    <tr>\n",
              "      <th>0</th>\n",
              "      <td>0.691109</td>\n",
              "      <td>0.524154</td>\n",
              "      <td>0.687596</td>\n",
              "      <td>0.602986</td>\n",
              "    </tr>\n",
              "    <tr>\n",
              "      <th>1</th>\n",
              "      <td>0.678410</td>\n",
              "      <td>0.614712</td>\n",
              "      <td>0.662014</td>\n",
              "      <td>0.622251</td>\n",
              "    </tr>\n",
              "    <tr>\n",
              "      <th>2</th>\n",
              "      <td>0.646469</td>\n",
              "      <td>0.625929</td>\n",
              "      <td>0.635100</td>\n",
              "      <td>0.629475</td>\n",
              "    </tr>\n",
              "    <tr>\n",
              "      <th>3</th>\n",
              "      <td>0.634457</td>\n",
              "      <td>0.630058</td>\n",
              "      <td>0.627778</td>\n",
              "      <td>0.627870</td>\n",
              "    </tr>\n",
              "    <tr>\n",
              "      <th>4</th>\n",
              "      <td>0.636330</td>\n",
              "      <td>0.627168</td>\n",
              "      <td>0.626469</td>\n",
              "      <td>0.635415</td>\n",
              "    </tr>\n",
              "    <tr>\n",
              "      <th>5</th>\n",
              "      <td>0.634353</td>\n",
              "      <td>0.629301</td>\n",
              "      <td>0.626964</td>\n",
              "      <td>0.638305</td>\n",
              "    </tr>\n",
              "    <tr>\n",
              "      <th>6</th>\n",
              "      <td>0.629055</td>\n",
              "      <td>0.632879</td>\n",
              "      <td>0.625144</td>\n",
              "      <td>0.631723</td>\n",
              "    </tr>\n",
              "    <tr>\n",
              "      <th>7</th>\n",
              "      <td>0.625961</td>\n",
              "      <td>0.632948</td>\n",
              "      <td>0.630856</td>\n",
              "      <td>0.641355</td>\n",
              "    </tr>\n",
              "    <tr>\n",
              "      <th>8</th>\n",
              "      <td>0.625637</td>\n",
              "      <td>0.637146</td>\n",
              "      <td>0.636067</td>\n",
              "      <td>0.641837</td>\n",
              "    </tr>\n",
              "    <tr>\n",
              "      <th>9</th>\n",
              "      <td>0.623613</td>\n",
              "      <td>0.637352</td>\n",
              "      <td>0.623441</td>\n",
              "      <td>0.631562</td>\n",
              "    </tr>\n",
              "  </tbody>\n",
              "</table>\n",
              "</div>\n",
              "      <button class=\"colab-df-convert\" onclick=\"convertToInteractive('df-521ca403-321e-4e39-ab8f-f54ef0bd40dc')\"\n",
              "              title=\"Convert this dataframe to an interactive table.\"\n",
              "              style=\"display:none;\">\n",
              "        \n",
              "  <svg xmlns=\"http://www.w3.org/2000/svg\" height=\"24px\"viewBox=\"0 0 24 24\"\n",
              "       width=\"24px\">\n",
              "    <path d=\"M0 0h24v24H0V0z\" fill=\"none\"/>\n",
              "    <path d=\"M18.56 5.44l.94 2.06.94-2.06 2.06-.94-2.06-.94-.94-2.06-.94 2.06-2.06.94zm-11 1L8.5 8.5l.94-2.06 2.06-.94-2.06-.94L8.5 2.5l-.94 2.06-2.06.94zm10 10l.94 2.06.94-2.06 2.06-.94-2.06-.94-.94-2.06-.94 2.06-2.06.94z\"/><path d=\"M17.41 7.96l-1.37-1.37c-.4-.4-.92-.59-1.43-.59-.52 0-1.04.2-1.43.59L10.3 9.45l-7.72 7.72c-.78.78-.78 2.05 0 2.83L4 21.41c.39.39.9.59 1.41.59.51 0 1.02-.2 1.41-.59l7.78-7.78 2.81-2.81c.8-.78.8-2.07 0-2.86zM5.41 20L4 18.59l7.72-7.72 1.47 1.35L5.41 20z\"/>\n",
              "  </svg>\n",
              "      </button>\n",
              "      \n",
              "  <style>\n",
              "    .colab-df-container {\n",
              "      display:flex;\n",
              "      flex-wrap:wrap;\n",
              "      gap: 12px;\n",
              "    }\n",
              "\n",
              "    .colab-df-convert {\n",
              "      background-color: #E8F0FE;\n",
              "      border: none;\n",
              "      border-radius: 50%;\n",
              "      cursor: pointer;\n",
              "      display: none;\n",
              "      fill: #1967D2;\n",
              "      height: 32px;\n",
              "      padding: 0 0 0 0;\n",
              "      width: 32px;\n",
              "    }\n",
              "\n",
              "    .colab-df-convert:hover {\n",
              "      background-color: #E2EBFA;\n",
              "      box-shadow: 0px 1px 2px rgba(60, 64, 67, 0.3), 0px 1px 3px 1px rgba(60, 64, 67, 0.15);\n",
              "      fill: #174EA6;\n",
              "    }\n",
              "\n",
              "    [theme=dark] .colab-df-convert {\n",
              "      background-color: #3B4455;\n",
              "      fill: #D2E3FC;\n",
              "    }\n",
              "\n",
              "    [theme=dark] .colab-df-convert:hover {\n",
              "      background-color: #434B5C;\n",
              "      box-shadow: 0px 1px 3px 1px rgba(0, 0, 0, 0.15);\n",
              "      filter: drop-shadow(0px 1px 2px rgba(0, 0, 0, 0.3));\n",
              "      fill: #FFFFFF;\n",
              "    }\n",
              "  </style>\n",
              "\n",
              "      <script>\n",
              "        const buttonEl =\n",
              "          document.querySelector('#df-521ca403-321e-4e39-ab8f-f54ef0bd40dc button.colab-df-convert');\n",
              "        buttonEl.style.display =\n",
              "          google.colab.kernel.accessAllowed ? 'block' : 'none';\n",
              "\n",
              "        async function convertToInteractive(key) {\n",
              "          const element = document.querySelector('#df-521ca403-321e-4e39-ab8f-f54ef0bd40dc');\n",
              "          const dataTable =\n",
              "            await google.colab.kernel.invokeFunction('convertToInteractive',\n",
              "                                                     [key], {});\n",
              "          if (!dataTable) return;\n",
              "\n",
              "          const docLinkHtml = 'Like what you see? Visit the ' +\n",
              "            '<a target=\"_blank\" href=https://colab.research.google.com/notebooks/data_table.ipynb>data table notebook</a>'\n",
              "            + ' to learn more about interactive tables.';\n",
              "          element.innerHTML = '';\n",
              "          dataTable['output_type'] = 'display_data';\n",
              "          await google.colab.output.renderOutput(dataTable, element);\n",
              "          const docLink = document.createElement('div');\n",
              "          docLink.innerHTML = docLinkHtml;\n",
              "          element.appendChild(docLink);\n",
              "        }\n",
              "      </script>\n",
              "    </div>\n",
              "  </div>\n",
              "  "
            ]
          },
          "metadata": {},
          "execution_count": 65
        }
      ],
      "source": [
        "history_lstm1"
      ]
    },
    {
      "cell_type": "markdown",
      "metadata": {
        "id": "tkG_jLTO6QJo"
      },
      "source": [
        "## 4.Test the model with your own example.\n",
        "\n"
      ]
    },
    {
      "cell_type": "code",
      "execution_count": null,
      "metadata": {
        "id": "DMaF4dMP6QJo"
      },
      "outputs": [],
      "source": [
        "def predict(news):\n",
        "    txt = cleantext(news)\n",
        "    txt = [txt]\n",
        "    cv = CountVectorizer(max_features=2000)\n",
        "    tr = cv.fit_transform(txt).toarray()\n",
        "    test = tf.keras.preprocessing.sequence.pad_sequences(tr, padding='post')\n",
        "    \n",
        "    label = model.predict(test)\n",
        "    return label"
      ]
    },
    {
      "cell_type": "code",
      "execution_count": null,
      "metadata": {
        "colab": {
          "base_uri": "https://localhost:8080/"
        },
        "id": "b1v7WsyAalQf",
        "outputId": "8e8cd676-f67d-4421-f0d1-021288d92c90"
      },
      "outputs": [
        {
          "output_type": "stream",
          "name": "stdout",
          "text": [
            "1/1 [==============================] - 1s 615ms/step\n",
            "Fake News\n"
          ]
        }
      ],
      "source": [
        "result = predict('recipe circulating social media claimed that garlic cured coronavirus')\n",
        "\n",
        "if(result < 0.5):\n",
        "    print(\"Fake News\")\n",
        "else:\n",
        "    print(\"Not a Fake News\")"
      ]
    },
    {
      "cell_type": "markdown",
      "metadata": {
        "id": "urOKkEOa6QJp"
      },
      "source": [
        "## 5.Build the model by using \n",
        "\n",
        "1.   Simple RNN with two layers\n",
        "2.   Bidirectional LSTM\n",
        "\n"
      ]
    },
    {
      "cell_type": "markdown",
      "metadata": {
        "id": "z934Bnt1alQf"
      },
      "source": [
        "Build the model using Simple RNN (2 layers)"
      ]
    },
    {
      "cell_type": "code",
      "execution_count": null,
      "metadata": {
        "id": "66Kd5JL7alQf"
      },
      "outputs": [],
      "source": [
        "rnn_model = Sequential()\n",
        "rnn_model.add(Embedding(2000, 20))\n",
        "rnn_model.add(SimpleRNN(10, return_sequences=True))\n",
        "rnn_model.add(SimpleRNN(10))\n",
        "rnn_model.add(Dense(1, activation='sigmoid'))"
      ]
    },
    {
      "cell_type": "code",
      "execution_count": null,
      "metadata": {
        "colab": {
          "base_uri": "https://localhost:8080/"
        },
        "id": "RRmrcEaMalQg",
        "outputId": "cf8a6176-6750-493f-b97f-e65437dc4b18"
      },
      "outputs": [
        {
          "output_type": "stream",
          "name": "stdout",
          "text": [
            "Model: \"sequential_5\"\n",
            "_________________________________________________________________\n",
            " Layer (type)                Output Shape              Param #   \n",
            "=================================================================\n",
            " embedding_5 (Embedding)     (None, None, 20)          40000     \n",
            "                                                                 \n",
            " simple_rnn_3 (SimpleRNN)    (None, None, 10)          310       \n",
            "                                                                 \n",
            " simple_rnn_4 (SimpleRNN)    (None, 10)                210       \n",
            "                                                                 \n",
            " dense_4 (Dense)             (None, 1)                 11        \n",
            "                                                                 \n",
            "=================================================================\n",
            "Total params: 40,531\n",
            "Trainable params: 40,531\n",
            "Non-trainable params: 0\n",
            "_________________________________________________________________\n"
          ]
        }
      ],
      "source": [
        "rnn_model.summary()"
      ]
    },
    {
      "cell_type": "code",
      "execution_count": null,
      "metadata": {
        "colab": {
          "base_uri": "https://localhost:8080/"
        },
        "id": "KTmx6rhUalQg",
        "outputId": "37c4a53c-bcfe-40c4-c5e6-bfd3b6dadbb8"
      },
      "outputs": [
        {
          "output_type": "stream",
          "name": "stdout",
          "text": [
            "Epoch 1/10\n",
            "30/30 [==============================] - 85s 3s/step - loss: 0.6446 - accuracy: 0.6380 - val_loss: 0.6163 - val_accuracy: 0.6767\n",
            "Epoch 2/10\n",
            "30/30 [==============================] - 82s 3s/step - loss: 0.5930 - accuracy: 0.6999 - val_loss: 0.5729 - val_accuracy: 0.7101\n",
            "Epoch 3/10\n",
            "30/30 [==============================] - 81s 3s/step - loss: 0.5627 - accuracy: 0.7225 - val_loss: 0.5532 - val_accuracy: 0.7297\n",
            "Epoch 4/10\n",
            "30/30 [==============================] - 82s 3s/step - loss: 0.5490 - accuracy: 0.7378 - val_loss: 0.5455 - val_accuracy: 0.7317\n",
            "Epoch 5/10\n",
            "30/30 [==============================] - 82s 3s/step - loss: 0.5387 - accuracy: 0.7414 - val_loss: 0.5345 - val_accuracy: 0.7463\n",
            "Epoch 6/10\n",
            "30/30 [==============================] - 79s 3s/step - loss: 0.5289 - accuracy: 0.7506 - val_loss: 0.5270 - val_accuracy: 0.7463\n",
            "Epoch 7/10\n",
            "30/30 [==============================] - 79s 3s/step - loss: 0.5236 - accuracy: 0.7525 - val_loss: 0.5241 - val_accuracy: 0.7491\n",
            "Epoch 8/10\n",
            "30/30 [==============================] - 80s 3s/step - loss: 0.5253 - accuracy: 0.7508 - val_loss: 0.5248 - val_accuracy: 0.7385\n",
            "Epoch 9/10\n",
            "30/30 [==============================] - 86s 3s/step - loss: 0.5218 - accuracy: 0.7473 - val_loss: 0.5210 - val_accuracy: 0.7499\n",
            "Epoch 10/10\n",
            "30/30 [==============================] - 82s 3s/step - loss: 0.5164 - accuracy: 0.7564 - val_loss: 0.5176 - val_accuracy: 0.7555\n"
          ]
        }
      ],
      "source": [
        "rnn_model.compile(loss='binary_crossentropy', optimizer='adam', metrics=['accuracy'])\n",
        "history_rnn = rnn_model.fit(X_train, y_train, batch_size=500, epochs=10, validation_data=(X_test, y_test))"
      ]
    },
    {
      "cell_type": "code",
      "execution_count": null,
      "metadata": {
        "colab": {
          "base_uri": "https://localhost:8080/"
        },
        "id": "ArnZWoLOalQg",
        "outputId": "ce1ab7b4-87de-47d6-fa39-525bfc8efc9f"
      },
      "outputs": [
        {
          "output_type": "stream",
          "name": "stdout",
          "text": [
            "13/13 [==============================] - 6s 443ms/step - loss: 0.5176 - accuracy: 0.7555\n",
            "Test score: 0.517592191696167\n",
            "Test accuracy: 0.755498468875885\n"
          ]
        }
      ],
      "source": [
        "score, acc = rnn_model.evaluate(X_test, y_test, batch_size=500)\n",
        "print('Test score:', score)\n",
        "print('Test accuracy:', acc)"
      ]
    },
    {
      "cell_type": "code",
      "execution_count": null,
      "metadata": {
        "colab": {
          "base_uri": "https://localhost:8080/",
          "height": 282
        },
        "id": "pGivBJlQalQg",
        "outputId": "4bc4b470-926f-4bcc-f3fb-5ec2692ee2b8"
      },
      "outputs": [
        {
          "output_type": "execute_result",
          "data": {
            "text/plain": [
              "<matplotlib.axes._subplots.AxesSubplot at 0x7ff0bbfa5160>"
            ]
          },
          "metadata": {},
          "execution_count": 73
        },
        {
          "output_type": "display_data",
          "data": {
            "text/plain": [
              "<Figure size 432x288 with 1 Axes>"
            ],
            "image/png": "[encoded data removed]"
          },
          "metadata": {
            "needs_background": "light"
          }
        }
      ],
      "source": [
        "history_rnn1 = pd.DataFrame(history_rnn.history)\n",
        "\n",
        "history_rnn1.plot()"
      ]
    },
    {
      "cell_type": "markdown",
      "metadata": {
        "id": "IY1YlWxX6QJp"
      },
      "source": [
        "Build the model using Bi-directional LSTM"
      ]
    },
    {
      "cell_type": "code",
      "execution_count": null,
      "metadata": {
        "id": "ZNG1HCJxEwbJ"
      },
      "outputs": [],
      "source": [
        "bidirect_model = Sequential()\n",
        "bidirect_model.add(Embedding(2000, 20))\n",
        "bidirect_model.add(Bidirectional(LSTM(10)))\n",
        "bidirect_model.add(Dense(1, activation='sigmoid'))"
      ]
    },
    {
      "cell_type": "code",
      "execution_count": null,
      "metadata": {
        "colab": {
          "base_uri": "https://localhost:8080/"
        },
        "id": "WX0Ma5vDalQh",
        "outputId": "443a1489-ea3b-47da-95eb-9ee641b2d414"
      },
      "outputs": [
        {
          "output_type": "stream",
          "name": "stdout",
          "text": [
            "Model: \"sequential_6\"\n",
            "_________________________________________________________________\n",
            " Layer (type)                Output Shape              Param #   \n",
            "=================================================================\n",
            " embedding_6 (Embedding)     (None, None, 20)          40000     \n",
            "                                                                 \n",
            " bidirectional_1 (Bidirectio  (None, 20)               2480      \n",
            " nal)                                                            \n",
            "                                                                 \n",
            " dense_5 (Dense)             (None, 1)                 21        \n",
            "                                                                 \n",
            "=================================================================\n",
            "Total params: 42,501\n",
            "Trainable params: 42,501\n",
            "Non-trainable params: 0\n",
            "_________________________________________________________________\n"
          ]
        }
      ],
      "source": [
        "bidirect_model.summary()"
      ]
    },
    {
      "cell_type": "code",
      "execution_count": null,
      "metadata": {
        "colab": {
          "base_uri": "https://localhost:8080/"
        },
        "id": "-mcWiQVUalQh",
        "outputId": "f1650c46-e5ff-406a-cf9d-e0bc1e73231a"
      },
      "outputs": [
        {
          "output_type": "stream",
          "name": "stdout",
          "text": [
            "Epoch 1/10\n",
            "30/30 [==============================] - 125s 4s/step - loss: 0.6926 - accuracy: 0.5083 - val_loss: 0.6915 - val_accuracy: 0.5388\n",
            "Epoch 2/10\n",
            "30/30 [==============================] - 113s 4s/step - loss: 0.6884 - accuracy: 0.5722 - val_loss: 0.6821 - val_accuracy: 0.5837\n",
            "Epoch 3/10\n",
            "30/30 [==============================] - 116s 4s/step - loss: 0.6651 - accuracy: 0.6030 - val_loss: 0.6543 - val_accuracy: 0.6084\n",
            "Epoch 4/10\n",
            "30/30 [==============================] - 116s 4s/step - loss: 0.6478 - accuracy: 0.6217 - val_loss: 0.6849 - val_accuracy: 0.6137\n",
            "Epoch 5/10\n",
            "30/30 [==============================] - 114s 4s/step - loss: 0.6628 - accuracy: 0.6147 - val_loss: 0.6487 - val_accuracy: 0.6255\n",
            "Epoch 6/10\n",
            "30/30 [==============================] - 117s 4s/step - loss: 0.6491 - accuracy: 0.6257 - val_loss: 0.6475 - val_accuracy: 0.6235\n",
            "Epoch 7/10\n",
            "30/30 [==============================] - 115s 4s/step - loss: 0.6463 - accuracy: 0.6191 - val_loss: 0.6476 - val_accuracy: 0.6141\n",
            "Epoch 8/10\n",
            "30/30 [==============================] - 113s 4s/step - loss: 0.6420 - accuracy: 0.6183 - val_loss: 0.6413 - val_accuracy: 0.6301\n",
            "Epoch 9/10\n",
            "30/30 [==============================] - 115s 4s/step - loss: 0.6422 - accuracy: 0.6226 - val_loss: 0.6400 - val_accuracy: 0.6303\n",
            "Epoch 10/10\n",
            "30/30 [==============================] - 113s 4s/step - loss: 0.6375 - accuracy: 0.6231 - val_loss: 0.6386 - val_accuracy: 0.6171\n"
          ]
        }
      ],
      "source": [
        "bidirect_model.compile(loss='binary_crossentropy', optimizer='adam', metrics=['accuracy'])\n",
        "history_bidirect = bidirect_model.fit(X_train, y_train, batch_size=500, epochs=10, validation_data=(X_test, y_test))"
      ]
    },
    {
      "cell_type": "code",
      "execution_count": null,
      "metadata": {
        "colab": {
          "base_uri": "https://localhost:8080/"
        },
        "id": "KRmqdxLYalQh",
        "outputId": "1dc1cff1-489c-4f09-c8eb-3119f7152ffc"
      },
      "outputs": [
        {
          "output_type": "stream",
          "name": "stdout",
          "text": [
            "13/13 [==============================] - 11s 858ms/step - loss: 0.6386 - accuracy: 0.6171\n",
            "Test score: 0.6385968327522278\n",
            "Test accuracy: 0.6171135306358337\n"
          ]
        }
      ],
      "source": [
        "score, acc = bidirect_model.evaluate(X_test, y_test, batch_size=500)\n",
        "print('Test score:', score)\n",
        "print('Test accuracy:', acc)"
      ]
    },
    {
      "cell_type": "code",
      "execution_count": null,
      "metadata": {
        "colab": {
          "base_uri": "https://localhost:8080/",
          "height": 284
        },
        "id": "BLzanakzalQh",
        "outputId": "c2fa731f-8787-4013-fa09-c275833d680b"
      },
      "outputs": [
        {
          "output_type": "execute_result",
          "data": {
            "text/plain": [
              "<matplotlib.axes._subplots.AxesSubplot at 0x7ff0bb3fde20>"
            ]
          },
          "metadata": {},
          "execution_count": 78
        },
        {
          "output_type": "display_data",
          "data": {
            "text/plain": [
              "<Figure size 432x288 with 1 Axes>"
            ],
            "image/png": "[encoded data removed]"
          },
          "metadata": {
            "needs_background": "light"
          }
        }
      ],
      "source": [
        "history_bidirect1 = pd.DataFrame(history_bidirect.history)\n",
        "\n",
        "history_bidirect1.plot()"
      ]
    },
    {
      "cell_type": "markdown",
      "metadata": {
        "id": "pDda0oXq6QJt"
      },
      "source": [
        "## 6. Compare the results of LSTM, RNN (two layers) and Bi-directional LSTM models "
      ]
    },
    {
      "cell_type": "code",
      "execution_count": null,
      "metadata": {
        "id": "Jurx2_YACSRt",
        "colab": {
          "base_uri": "https://localhost:8080/",
          "height": 251
        },
        "outputId": "e73c24fe-80d2-4189-fb8d-4bfd4386cc50"
      },
      "outputs": [
        {
          "output_type": "stream",
          "name": "stdout",
          "text": [
            "***********************************************************************\n",
            "***************** Comparison of different models **********************\n",
            "\n",
            "\n"
          ]
        },
        {
          "output_type": "execute_result",
          "data": {
            "text/plain": [
              "<pandas.io.formats.style.Styler at 0x7ff0bc2c7640>"
            ],
            "text/html": [
              "<style type=\"text/css\">\n",
              "#T_caaf2_row0_col0, #T_caaf2_row0_col1, #T_caaf2_row0_col2, #T_caaf2_row1_col0, #T_caaf2_row1_col1, #T_caaf2_row1_col2, #T_caaf2_row2_col0, #T_caaf2_row2_col1, #T_caaf2_row2_col2, #T_caaf2_row3_col0, #T_caaf2_row3_col1, #T_caaf2_row3_col2 {\n",
              "  border: 1.5px solid black;\n",
              "  color: blue;\n",
              "}\n",
              "</style>\n",
              "<table id=\"T_caaf2_\" class=\"dataframe\">\n",
              "  <thead>\n",
              "    <tr>\n",
              "      <th class=\"blank level0\" >&nbsp;</th>\n",
              "      <th class=\"col_heading level0 col0\" >LSTM</th>\n",
              "      <th class=\"col_heading level0 col1\" >RNN</th>\n",
              "      <th class=\"col_heading level0 col2\" >BILSTM</th>\n",
              "    </tr>\n",
              "  </thead>\n",
              "  <tbody>\n",
              "    <tr>\n",
              "      <th id=\"T_caaf2_level0_row0\" class=\"row_heading level0 row0\" >Loss</th>\n",
              "      <td id=\"T_caaf2_row0_col0\" class=\"data row0 col0\" >0.623613</td>\n",
              "      <td id=\"T_caaf2_row0_col1\" class=\"data row0 col1\" >0.516361</td>\n",
              "      <td id=\"T_caaf2_row0_col2\" class=\"data row0 col2\" >0.637481</td>\n",
              "    </tr>\n",
              "    <tr>\n",
              "      <th id=\"T_caaf2_level0_row1\" class=\"row_heading level0 row1\" >Accuracy</th>\n",
              "      <td id=\"T_caaf2_row1_col0\" class=\"data row1 col0\" >0.637352</td>\n",
              "      <td id=\"T_caaf2_row1_col1\" class=\"data row1 col1\" >0.756400</td>\n",
              "      <td id=\"T_caaf2_row1_col2\" class=\"data row1 col2\" >0.623108</td>\n",
              "    </tr>\n",
              "    <tr>\n",
              "      <th id=\"T_caaf2_level0_row2\" class=\"row_heading level0 row2\" >Validation Loss</th>\n",
              "      <td id=\"T_caaf2_row2_col0\" class=\"data row2 col0\" >0.623441</td>\n",
              "      <td id=\"T_caaf2_row2_col1\" class=\"data row2 col1\" >0.517592</td>\n",
              "      <td id=\"T_caaf2_row2_col2\" class=\"data row2 col2\" >0.638597</td>\n",
              "    </tr>\n",
              "    <tr>\n",
              "      <th id=\"T_caaf2_level0_row3\" class=\"row_heading level0 row3\" >Validation Accuracy</th>\n",
              "      <td id=\"T_caaf2_row3_col0\" class=\"data row3 col0\" >0.631562</td>\n",
              "      <td id=\"T_caaf2_row3_col1\" class=\"data row3 col1\" >0.755498</td>\n",
              "      <td id=\"T_caaf2_row3_col2\" class=\"data row3 col2\" >0.617114</td>\n",
              "    </tr>\n",
              "  </tbody>\n",
              "</table>\n"
            ]
          },
          "metadata": {},
          "execution_count": 79
        }
      ],
      "source": [
        "# You would have to run these for more epochs and more data and then create a table for results.\n",
        "from IPython.display import display \n",
        "print('***********************************************************************')\n",
        "print('***************** Comparison of different models **********************\\n\\n')\n",
        "\n",
        "all_rows = [[history_lstm1['loss'][9],\n",
        "             history_rnn1['loss'][9],\n",
        "             history_bidirect1['loss'][9]], \n",
        "            [history_lstm1['accuracy'][9],\n",
        "            history_rnn1['accuracy'][9],\n",
        "            history_bidirect1['accuracy'][9]],\n",
        "           [history_lstm1['val_loss'][9],\n",
        "            history_rnn1['val_loss'][9],\n",
        "            history_bidirect1['val_loss'][9]], \n",
        "            [history_lstm1['val_accuracy'][9],\n",
        "            history_rnn1['val_accuracy'][9],\n",
        "            history_bidirect1['val_accuracy'][9]]]\n",
        "\n",
        "df = pd.DataFrame(all_rows, columns=['LSTM', 'RNN', 'BILSTM'])\n",
        "df.style.background_gradient(cmap ='viridis').set_properties(**{'font-size': '20px'})\n",
        "df.index = ['Loss', 'Accuracy', 'Validation Loss', 'Validation Accuracy']\n",
        "df.style.set_properties(**{'border': '1.5px solid black','color': 'blue'}) "
      ]
    },
    {
      "cell_type": "code",
      "execution_count": null,
      "metadata": {
        "id": "vStW8I2O6QJu"
      },
      "outputs": [],
      "source": []
    },
    {
      "cell_type": "markdown",
      "metadata": {
        "id": "AD9xJUN66QJv"
      },
      "source": [
        "## 7. Intrepret your solution based on the results"
      ]
    },
    {
      "cell_type": "markdown",
      "metadata": {
        "id": "FOVUj-xUE1pF"
      },
      "source": []
    },
    {
      "cell_type": "markdown",
      "metadata": {
        "id": "hIZ-VorNalQj"
      },
      "source": [
        "Comparing all the 3 models, \n",
        "\n",
        "    RNN takes less computation time compared to LSTM and Bidirectional LSTM\n",
        "    \n",
        "    Both Accuracy and Validation Accuracy of the Simple RNN model is higher \n",
        "    \n",
        "    Compared to LSTM and Bidirectional LSTM, LSTM's accuracy is higher and loss is lesser than Bidirectional LSTM\n",
        "    \n",
        "    Out of the all three models, Simple RNN with 2 layers outperforms the other 2 models and it is the best model"
      ]
    },
    {
      "cell_type": "code",
      "execution_count": null,
      "metadata": {
        "id": "pHSm5U1ialQj"
      },
      "outputs": [],
      "source": []
    }
  ],
  "metadata": {
    "colab": {
      "provenance": [],
      "include_colab_link": true
    },
    "kernelspec": {
      "display_name": "Python 3 (ipykernel)",
      "language": "python",
      "name": "python3"
    },
    "language_info": {
      "codemirror_mode": {
        "name": "ipython",
        "version": 3
      },
      "file_extension": ".py",
      "mimetype": "text/x-python",
      "name": "python",
      "nbconvert_exporter": "python",
      "pygments_lexer": "ipython3",
      "version": "3.9.12"
    }
  },
  "nbformat": 4,
  "nbformat_minor": 0
}